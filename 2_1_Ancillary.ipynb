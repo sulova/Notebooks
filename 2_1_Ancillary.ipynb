{
 "cells": [
  {
   "cell_type": "code",
   "execution_count": 1,
   "metadata": {},
   "outputs": [],
   "source": [
    "import os\n",
    "import glob\n",
    "import json\n",
    "import geojson\n",
    "import zipfile\n",
    "import rasterio\n",
    "import pyproj\n",
    "import pathlib\n",
    "import pandas\n",
    "import numpy as np\n",
    "from fastkml import  kml\n",
    "\n",
    "import geopandas as gpd\n",
    "import fiona\n",
    "from shapely.geometry import shape\n",
    "import rasterio.features\n",
    "from rasterio import features\n",
    "from rasterio.plot import show\n",
    "from rasterio.merge import merge   \n",
    "from rasterio.plot import show\n",
    "from shutil import copyfile\n",
    "from pathlib import Path\n",
    "from shapely.geometry import Polygon, box, MultiPolygon\n",
    "from shapely import geometry, wkt\n",
    "from pprint import pprint, pformat\n",
    "import matplotlib.pyplot as plt\n",
    "\n",
    "from ccc_devkit.io.storage import StorageDriver\n",
    "\n",
    "from sentinelsat import SentinelAPI, read_geojson, geojson_to_wkt \n",
    "from terracatalogueclient import Catalogue \n",
    "from creodias_finder import query, download"
   ]
  },
  {
   "cell_type": "markdown",
   "metadata": {},
   "source": [
    "**Inputs**"
   ]
  },
  {
   "cell_type": "code",
   "execution_count": 2,
   "metadata": {},
   "outputs": [],
   "source": [
    "\n",
    "# Name of the AOI\n",
    "name = \"uk\"\n",
    "\n",
    "# AOI formatL: shp, geojson, kml etc.\n",
    "format_aoi = \"shp\"\n",
    "\n",
    "# Start and end date for S2 scenes\n",
    "date_start, date_end= \"20190101\", \"20201231\"\n",
    "\n",
    "# Value for reclassification\n",
    "value_class = 101\n",
    "\n",
    "# WorldCover - https://viewer.esa-worldcover.org/worldcover\n",
    "name_wc, password_wc = \"sulova\", \"Sulova327\"\n",
    "\n",
    "# Sentinel S2 - https://apihub.copernicus.eu/apihub\n",
    "sentinel_user, sentinel_pw = \"sulova327\", \"sulova327\"\n",
    "\n",
    "# Creodias Copernicus DEM(30m) - https://finder.creodias.eu/\n",
    "creodias_user, creodias_pw = \"ansu@dhigroup.com\", \"Sulova327\"\n",
    "\n",
    "# Directories for AOI, work directory, S2 tile Grid, polygons of specific crops\n",
    "dir_AOI =  pathlib.Path(f\"/ncr2420/ANSU/6_Tasks/2110_ET/{name}/AOI\")\n",
    "dir_work =  pathlib.Path(f\"/ncr2420/ANSU/6_Tasks/2110_ET/{name}\")\n",
    "S2_Grid =  gpd.read_file('/ncr2420/ANSU/3_Data/S2-Tiles/sentinel2_tiles_world.shp')\n",
    "dir_polygons =  pathlib.Path(f\"/ncr2420/ANSU/6_Tasks/2110_ET/{name}/MS_Bounds/Field Bounds\")\n"
   ]
  },
  {
   "cell_type": "markdown",
   "metadata": {},
   "source": [
    "# 1. Merge all the AOI files"
   ]
  },
  {
   "cell_type": "code",
   "execution_count": 3,
   "metadata": {},
   "outputs": [
    {
     "name": "stdout",
     "output_type": "stream",
     "text": [
      "Number of files: 8\n",
      "['/ncr2420/ANSU/6_Tasks/2110_ET/uk/AOI/BC_FieldBnd.shp', '/ncr2420/ANSU/6_Tasks/2110_ET/uk/AOI/Bubb_FieldBnd.shp', '/ncr2420/ANSU/6_Tasks/2110_ET/uk/AOI/Daw_FieldBnd.shp', '/ncr2420/ANSU/6_Tasks/2110_ET/uk/AOI/Elveden_FieldBnd.shp', '/ncr2420/ANSU/6_Tasks/2110_ET/uk/AOI/GC_FieldBnd.shp', '/ncr2420/ANSU/6_Tasks/2110_ET/uk/AOI/RASmith_FieldBnd.shp', '/ncr2420/ANSU/6_Tasks/2110_ET/uk/AOI/Tern_FieldBnd.shp', '/ncr2420/ANSU/6_Tasks/2110_ET/uk/AOI/Wharton_FieldBnd.shp']\n",
      "shp\n"
     ]
    },
    {
     "name": "stderr",
     "output_type": "stream",
     "text": [
      "/home/jovyan/.conda/envs/py3/lib/python3.6/site-packages/geopandas/io/file.py:108: FionaDeprecationWarning: Use fiona.Env() instead.\n",
      "  with fiona.drivers():\n",
      "CPLE_NotSupported in driver GeoJSON does not support creation option ENCODING\n",
      "CPLE_NotSupported in dataset /ncr2420/ANSU/6_Tasks/2110_ET/uk/AOI/merge.geojson does not support layer creation option ENCODING\n",
      "CPLE_NotSupported in dataset /ncr2420/ANSU/6_Tasks/2110_ET/uk/AOI/merge.geojson does not support layer creation option ENCODING\n",
      "CPLE_NotSupported in driver ESRI Shapefile does not support creation option ENCODING\n"
     ]
    },
    {
     "data": {
      "text/plain": [
       "[]"
      ]
     },
     "execution_count": 3,
     "metadata": {},
     "output_type": "execute_result"
    },
    {
     "data": {
      "image/png": "[encoded data removed]",
      "text/plain": [
       "<Figure size 648x936 with 1 Axes>"
      ]
     },
     "metadata": {
      "needs_background": "light"
     },
     "output_type": "display_data"
    }
   ],
   "source": [
    "\n",
    "# Delete previous files in the aoi folder\n",
    "    \n",
    "if os.path.isfile(os.path.join(dir_AOI, f'merge.geojson')):\n",
    "    os.remove(os.path.join(dir_AOI, f'merge.geojson'))\n",
    "if os.path.isfile(os.path.join(dir_AOI, f'merge.shp')):\n",
    "    os.remove(os.path.join(dir_AOI, f'merge.shp'))    \n",
    "\n",
    "# Search for all files  \n",
    "files = glob.glob(f'{dir_AOI}/*.{format_aoi}')\n",
    "print('Number of files:',len(files))\n",
    "print(files)\n",
    "\n",
    "if (format_aoi == \"shp\" ):\n",
    "    print(\"shp\")\n",
    "    for shp in files:\n",
    "        gdf_merge = pandas.concat([gpd.read_file(shp) for shp in files]).pipe(gpd.GeoDataFrame)\n",
    "        \n",
    "if (format_aoi == \"kml\" ):\n",
    "    print(\"kml\")\n",
    "    gpd.io.file.fiona.drvsupport.supported_drivers['KML'] = 'rw'\n",
    "    for shp in files:\n",
    "        gdf_merge = pandas.concat([gpd.read_file(shp,driver='KML') for shp in files]).pipe(gpd.GeoDataFrame)\n",
    "        \n",
    "if (format_aoi == \"geojson\" ):\n",
    "    print(\"geojson\")\n",
    "    for shp in files:\n",
    "        gdf_merge = pandas.concat([gpd.read_file(shp) for shp in files]).pipe(gpd.GeoDataFrame)\n",
    "        \n",
    "gdf_merge.crs = \"EPSG:4326\"\n",
    "\n",
    "merge_file = gdf_merge.to_file(os.path.join(dir_AOI, f'merge.geojson'), driver='GeoJSON')\n",
    "merge_file = gdf_merge.to_file(os.path.join(dir_AOI, f'merge.shp'))\n",
    "\n",
    "ax_AOI = gdf_merge.plot(figsize = (9,13),facecolor = \"none\", lw = 2, edgecolor = 'red')\n",
    "ax_AOI.plot()"
   ]
  },
  {
   "cell_type": "markdown",
   "metadata": {},
   "source": [
    "# 1.1 Find the matching S2 tiles"
   ]
  },
  {
   "cell_type": "code",
   "execution_count": 4,
   "metadata": {},
   "outputs": [
    {
     "name": "stderr",
     "output_type": "stream",
     "text": [
      "/home/jovyan/.conda/envs/py3/lib/python3.6/site-packages/geopandas/base.py:29: UserWarning: GeoSeries crs mismatch: {'init': 'epsg:4326'} and EPSG:4326\n",
      "  other.crs))\n"
     ]
    },
    {
     "data": {
      "text/html": [
       "<div>\n",
       "<style scoped>\n",
       "    .dataframe tbody tr th:only-of-type {\n",
       "        vertical-align: middle;\n",
       "    }\n",
       "\n",
       "    .dataframe tbody tr th {\n",
       "        vertical-align: top;\n",
       "    }\n",
       "\n",
       "    .dataframe thead th {\n",
       "        text-align: right;\n",
       "    }\n",
       "</style>\n",
       "<table border=\"1\" class=\"dataframe\">\n",
       "  <thead>\n",
       "    <tr style=\"text-align: right;\">\n",
       "      <th></th>\n",
       "      <th>Name</th>\n",
       "      <th>name</th>\n",
       "      <th>geometry</th>\n",
       "    </tr>\n",
       "  </thead>\n",
       "  <tbody>\n",
       "    <tr>\n",
       "      <th>0</th>\n",
       "      <td>30UWD</td>\n",
       "      <td>None</td>\n",
       "      <td>POLYGON Z ((-2.56634968233335 52.7478007492843...</td>\n",
       "    </tr>\n",
       "    <tr>\n",
       "      <th>1</th>\n",
       "      <td>30UWD</td>\n",
       "      <td>None</td>\n",
       "      <td>POLYGON Z ((-2.34289220707003 52.7037595601137...</td>\n",
       "    </tr>\n",
       "    <tr>\n",
       "      <th>2</th>\n",
       "      <td>30UWD</td>\n",
       "      <td>None</td>\n",
       "      <td>POLYGON Z ((-1.59331165846186 52.6814448216111...</td>\n",
       "    </tr>\n",
       "    <tr>\n",
       "      <th>3</th>\n",
       "      <td>30UXE</td>\n",
       "      <td>None</td>\n",
       "      <td>POLYGON Z ((-1.22724921464693 53.5672414925908...</td>\n",
       "    </tr>\n",
       "    <tr>\n",
       "      <th>4</th>\n",
       "      <td>30UYD</td>\n",
       "      <td>None</td>\n",
       "      <td>POLYGON Z ((0.467708195407399 52.4876610382605...</td>\n",
       "    </tr>\n",
       "    <tr>\n",
       "      <th>9</th>\n",
       "      <td>31UCU</td>\n",
       "      <td>None</td>\n",
       "      <td>POLYGON Z ((0.467708195407399 52.4876610382605...</td>\n",
       "    </tr>\n",
       "    <tr>\n",
       "      <th>5</th>\n",
       "      <td>30UYD</td>\n",
       "      <td>None</td>\n",
       "      <td>POLYGON Z ((0.594456716012383 52.3336790597574...</td>\n",
       "    </tr>\n",
       "    <tr>\n",
       "      <th>10</th>\n",
       "      <td>31UCU</td>\n",
       "      <td>None</td>\n",
       "      <td>POLYGON Z ((0.594456716012383 52.3336790597574...</td>\n",
       "    </tr>\n",
       "    <tr>\n",
       "      <th>6</th>\n",
       "      <td>30UYD</td>\n",
       "      <td>None</td>\n",
       "      <td>POLYGON Z ((1.16515614354908 52.7599461050998 ...</td>\n",
       "    </tr>\n",
       "    <tr>\n",
       "      <th>11</th>\n",
       "      <td>31UCU</td>\n",
       "      <td>None</td>\n",
       "      <td>POLYGON Z ((1.16515614354908 52.7599461050998 ...</td>\n",
       "    </tr>\n",
       "    <tr>\n",
       "      <th>12</th>\n",
       "      <td>31UCU</td>\n",
       "      <td>None</td>\n",
       "      <td>POLYGON Z ((1.62708370016359 52.6685165420901 ...</td>\n",
       "    </tr>\n",
       "    <tr>\n",
       "      <th>13</th>\n",
       "      <td>31UDU</td>\n",
       "      <td>None</td>\n",
       "      <td>POLYGON Z ((1.62708370016359 52.6685165420901 ...</td>\n",
       "    </tr>\n",
       "  </tbody>\n",
       "</table>\n",
       "</div>"
      ],
      "text/plain": [
       "     Name  name                                           geometry\n",
       "0   30UWD  None  POLYGON Z ((-2.56634968233335 52.7478007492843...\n",
       "1   30UWD  None  POLYGON Z ((-2.34289220707003 52.7037595601137...\n",
       "2   30UWD  None  POLYGON Z ((-1.59331165846186 52.6814448216111...\n",
       "3   30UXE  None  POLYGON Z ((-1.22724921464693 53.5672414925908...\n",
       "4   30UYD  None  POLYGON Z ((0.467708195407399 52.4876610382605...\n",
       "9   31UCU  None  POLYGON Z ((0.467708195407399 52.4876610382605...\n",
       "5   30UYD  None  POLYGON Z ((0.594456716012383 52.3336790597574...\n",
       "10  31UCU  None  POLYGON Z ((0.594456716012383 52.3336790597574...\n",
       "6   30UYD  None  POLYGON Z ((1.16515614354908 52.7599461050998 ...\n",
       "11  31UCU  None  POLYGON Z ((1.16515614354908 52.7599461050998 ...\n",
       "12  31UCU  None  POLYGON Z ((1.62708370016359 52.6685165420901 ...\n",
       "13  31UDU  None  POLYGON Z ((1.62708370016359 52.6685165420901 ..."
      ]
     },
     "execution_count": 4,
     "metadata": {},
     "output_type": "execute_result"
    }
   ],
   "source": [
    "# Intersection of the S2 tiles and AOI\n",
    "intersection = gpd.overlay(S2_Grid, gdf_merge, how='intersection')\n",
    "# Intersection of the S2 tiles and AOI\n",
    "intersection"
   ]
  },
  {
   "cell_type": "code",
   "execution_count": 5,
   "metadata": {},
   "outputs": [
    {
     "name": "stdout",
     "output_type": "stream",
     "text": [
      "['30UWD', '30UXE', '30UYD', '31UCU', '31UDU']\n"
     ]
    },
    {
     "data": {
      "image/png": "[encoded data removed]",
      "text/plain": [
       "<Figure size 792x1152 with 1 Axes>"
      ]
     },
     "metadata": {
      "needs_background": "light"
     },
     "output_type": "display_data"
    }
   ],
   "source": [
    "tiles_name = intersection['Name'].unique().tolist()\n",
    "print(tiles_name)\n",
    "\n",
    "# Plot of the S2 tiles and AOI\n",
    "S2_Tile_Selection = S2_Grid[S2_Grid['Name'].isin(tiles_name)]\n",
    "S2_Tile_Plot = S2_Tile_Selection.plot(figsize = (11,16), facecolor=\"none\", \n",
    "                                      edgecolor = 'blue', lw = 1, legend = True,\n",
    "                                      legend_kwds = {'bbox_to_anchor':(0, 1.05),'fontsize':10,})\n",
    "\n",
    "ax = gdf_merge.plot(ax = S2_Tile_Plot, facecolor = \"none\", lw = 2, edgecolor = 'red',legend = True, legend_kwds = {'bbox_to_anchor':(2, 1.05),'fontsize':15,})\n",
    "\n",
    "for i, geo in S2_Tile_Selection.centroid.iteritems():\n",
    "    ax.annotate(s=S2_Tile_Selection.Name[i], xy = [geo.x, geo.y], color=\"blue\",fontsize = 15,)\n",
    "    "
   ]
  },
  {
   "cell_type": "markdown",
   "metadata": {},
   "source": [
    "# 1.2 Select S2 tiles "
   ]
  },
  {
   "cell_type": "code",
   "execution_count": 6,
   "metadata": {},
   "outputs": [],
   "source": [
    "\n",
    "# Select ID tiles which you wish to use further\n",
    "\n",
    "#tiles_name = ['31UDU',\"30UXE\"]\n",
    "tiles_name = ['30UWD','30UYD']\n"
   ]
  },
  {
   "cell_type": "code",
   "execution_count": 7,
   "metadata": {},
   "outputs": [
    {
     "name": "stderr",
     "output_type": "stream",
     "text": [
      "CPLE_NotSupported in driver GeoJSON does not support creation option ENCODING\n",
      "CPLE_NotSupported in dataset /ncr2420/ANSU/6_Tasks/2110_ET/uk/30UWD.geojson does not support layer creation option ENCODING\n",
      "CPLE_NotSupported in dataset /ncr2420/ANSU/6_Tasks/2110_ET/uk/30UWD.geojson does not support layer creation option ENCODING\n",
      "CPLE_NotSupported in driver GeoJSON does not support creation option ENCODING\n",
      "CPLE_NotSupported in dataset /ncr2420/ANSU/6_Tasks/2110_ET/uk/30UYD.geojson does not support layer creation option ENCODING\n",
      "CPLE_NotSupported in dataset /ncr2420/ANSU/6_Tasks/2110_ET/uk/30UYD.geojson does not support layer creation option ENCODING\n"
     ]
    },
    {
     "name": "stdout",
     "output_type": "stream",
     "text": [
      "Saving the uk tile:/ncr2420/ANSU/6_Tasks/2110_ET/uk/30UWD.geojson  \n",
      "Saving the uk tile:/ncr2420/ANSU/6_Tasks/2110_ET/uk/30UYD.geojson  \n"
     ]
    },
    {
     "data": {
      "image/png": "[encoded data removed]",
      "text/plain": [
       "<Figure size 792x1152 with 1 Axes>"
      ]
     },
     "metadata": {
      "needs_background": "light"
     },
     "output_type": "display_data"
    }
   ],
   "source": [
    "\n",
    "# Select S2 tiles within the AOI        \n",
    "S2_Tile_Selection = S2_Grid[S2_Grid['Name'].isin(tiles_name)]\n",
    "\n",
    "# Plot of the S2 tiles and AOI\n",
    "S2_Tile_Plot = S2_Tile_Selection.plot(figsize = (11,16), facecolor=\"none\", \n",
    "                                      edgecolor = 'blue', lw = 1, legend = True,\n",
    "                                      legend_kwds = {'bbox_to_anchor':(0, 1.05),'fontsize':10,})\n",
    "ax = gdf_merge.plot(ax = S2_Tile_Plot, facecolor = \"none\", lw = 2, edgecolor = 'red',legend = True, legend_kwds = {'bbox_to_anchor':(2, 1.05),'fontsize':15,})\n",
    "\n",
    "for i, geo in S2_Tile_Selection.centroid.iteritems():\n",
    "    ax.annotate(s=S2_Tile_Selection.Name[i], xy = [geo.x, geo.y], color=\"blue\",fontsize = 15,)\n",
    "    \n",
    "# Save S2 tile as a geojson file\n",
    "for index, row in S2_Tile_Selection.iterrows():\n",
    "    name_s2 = row[\"Name\"]\n",
    "    polygon = S2_Tile_Selection.loc[S2_Tile_Selection['Name'] == name_s2]\n",
    "    out_name = os.path.join(dir_work, \"{0}.geojson\".format(name_s2))\n",
    "    print(\"Saving the {0} tile:{1}  \".format(name,out_name))\n",
    "    polygon.to_file(out_name, driver='GeoJSON')\n",
    "        \n"
   ]
  },
  {
   "cell_type": "code",
   "execution_count": 8,
   "metadata": {},
   "outputs": [
    {
     "name": "stderr",
     "output_type": "stream",
     "text": [
      "CPLE_NotSupported in driver GeoJSON does not support creation option ENCODING\n",
      "CPLE_NotSupported in dataset /ncr2420/ANSU/6_Tasks/2110_ET/uk/merge_tiles.geojson does not support layer creation option ENCODING\n",
      "CPLE_NotSupported in dataset /ncr2420/ANSU/6_Tasks/2110_ET/uk/merge_tiles.geojson does not support layer creation option ENCODING\n",
      "CPLE_NotSupported in driver GeoJSON does not support creation option ENCODING\n",
      "CPLE_NotSupported in dataset /ncr2420/ANSU/6_Tasks/2110_ET/uk/uk.geojson does not support layer creation option ENCODING\n",
      "CPLE_NotSupported in dataset /ncr2420/ANSU/6_Tasks/2110_ET/uk/uk.geojson does not support layer creation option ENCODING\n"
     ]
    },
    {
     "name": "stdout",
     "output_type": "stream",
     "text": [
      "Number of files: 4\n",
      "['/ncr2420/ANSU/6_Tasks/2110_ET/uk/30UWD.geojson', '/ncr2420/ANSU/6_Tasks/2110_ET/uk/30UYD.geojson']\n"
     ]
    }
   ],
   "source": [
    "# Delete previous files in the folder\n",
    "file_json = glob.glob(f'{dir_work}/tiles.geojson')\n",
    "for f in file_json:\n",
    "    if os.path.isfile(f):\n",
    "        os.remove(f)\n",
    "       \n",
    "files = glob.glob(f'{dir_work}/*.geojson')\n",
    "print('Number of files:',len(files))\n",
    "print(files[:2])\n",
    "\n",
    "\n",
    "gdf_merge = pandas.concat([gpd.read_file(shp) for shp in files[:2]]).pipe(gpd.GeoDataFrame)\n",
    "gdf_merge.crs = \"EPSG:4326\"\n",
    "\n",
    "merge_file = gdf_merge.to_file(os.path.join(dir_work,'merge_tiles.geojson'), driver='GeoJSON')\n",
    "\n",
    "Multi = MultiPolygon([shape(pol['geometry']) for pol in fiona.open(os.path.join(dir_work,'merge_tiles.geojson'))])\n",
    "\n",
    "out_merge = os.path.join(dir_work,f'{name}.geojson')\n",
    "final =  gpd.GeoSeries([Multi]).to_file(out_merge, driver = 'GeoJSON')\n",
    "\n"
   ]
  },
  {
   "cell_type": "markdown",
   "metadata": {},
   "source": [
    "# 1.3 S2 scenes\n"
   ]
  },
  {
   "cell_type": "code",
   "execution_count": null,
   "metadata": {},
   "outputs": [],
   "source": [
    "\n",
    "#api_url='https://apihub.copernicus.eu/dhus'\n",
    "api_url='https://scihub.copernicus.eu/dhus'\n",
    "\n",
    "area = geojson_to_wkt(read_geojson(out_merge))\n",
    "\n",
    "print(area)\n",
    "output_file = os.path.join(dir_work, f\"{name}_scenes_2019_2020.txt\")\n",
    "\n",
    "query_kwargs = {\n",
    "    \"platformname\": \"Sentinel-2\",\n",
    "    \"producttype\": \"S2MSI1C\",\n",
    "    \"cloudcoverpercentage\": (0, 90),\n",
    "    \"date\": (date_start, date_end),\n",
    "    \"tileid\": area}\n",
    "\n",
    "product = dict()\n",
    "scenes = []\n",
    "\n",
    "for tile in tiles_name:\n",
    "    kw = query_kwargs.copy()\n",
    "    kw[\"tileid\"] = tile\n",
    "    api = SentinelAPI(sentinel_user, sentinel_pw,api_url)\n",
    "    api_product = api.query(**kw)\n",
    "    dates = []\n",
    "   \n",
    "    for key, value in api_product.items():\n",
    "        dates.append(value['datatakesensingstart'])\n",
    "    dates = sorted(dates)[::-1]\n",
    "    \n",
    "    for d in dates:\n",
    "        scenes.append({\"date\":f'{d:%Y-%m-%d}', 'tile':f'T{tile}'})\n",
    "\n",
    "print(json.dumps(scenes))\n",
    "\n",
    "with open(output_file, \"w\") as fp:\n",
    "    fp.write(json.dumps(scenes, indent=1))\n",
    "    "
   ]
  },
  {
   "cell_type": "markdown",
   "metadata": {},
   "source": [
    "# 2. Copernicus DEM"
   ]
  },
  {
   "cell_type": "code",
   "execution_count": null,
   "metadata": {},
   "outputs": [],
   "source": [
    "\n",
    "# Create a DEM folder \n",
    "dem_dir = os.path.join(dir_work,\"DEM\")\n",
    "\n",
    "if not os.path.exists(dem_dir):\n",
    "    os.makedirs(dem_dir)   \n",
    "    \n",
    "dem_aoi = f\"{dir_work}/{name}.geojson\"\n",
    "\n",
    "merge_gpd = gpd.read_file(dem_aoi)\n",
    "bounds_AOI = merge_gpd.total_bounds\n",
    "geometry = box(*bounds_AOI) \n",
    "\n",
    "results_update = []\n",
    "\n",
    "results = query.query('CopDem', geometry =geometry)\n",
    "\n",
    "for result in results.values():\n",
    "    productType = result[\"properties\"][\"productType\"]\n",
    "    if productType == \"SAR_DGE_30_PUBLIC\":\n",
    "        title = result[\"properties\"][\"title\"]\n",
    "        ids = result[\"id\"]\n",
    "        download_title= os.path.join(dem_dir,title)\n",
    "        download_id = os.path.join(dem_dir,f\"{ids}.zip\")\n",
    "        if not os.path.exists(download_id):\n",
    "            results_update.append(ids)  \n",
    "\n",
    "print(\"Number of downloads:\", len(results_update))\n",
    "\n"
   ]
  },
  {
   "cell_type": "code",
   "execution_count": null,
   "metadata": {},
   "outputs": [],
   "source": [
    "paths = download.download_list(list(results_update), creodias_user, creodias_pw, dem_dir,threads=10, show_progress=False)\n",
    "\n",
    "DEM_tif = glob.glob(os.path.join(dem_dir,f\"*.zip\"))\n",
    "\n",
    "for path in DEM_tif:\n",
    "    with zipfile.ZipFile(path, \"r\") as z:\n",
    "        z.extractall(dem_dir)\n",
    "    os.remove(path)\n",
    "    "
   ]
  },
  {
   "cell_type": "code",
   "execution_count": null,
   "metadata": {},
   "outputs": [],
   "source": [
    "\n",
    "# Merge the selected tiles\n",
    "\n",
    "DEM_tif = glob.glob(os.path.join(f\"{dem_dir}/DEM1*/Copernicus*/DEM/\",\"*.tif\"))\n",
    "\n",
    "src_files_to_mosaic = []\n",
    "\n",
    "for fp in DEM_tif:\n",
    "    src = rasterio.open(fp)\n",
    "    src_files_to_mosaic.append(src)\n",
    "    \n",
    "print(\"Number of downloads:\", len(src_files_to_mosaic))  \n",
    "\n",
    "mosaic, out_trans = merge(src_files_to_mosaic)    \n",
    "\n",
    "out_meta = src.meta.copy()\n",
    "out_meta.update({\"driver\": \"GTiff\",\n",
    "    \"height\": mosaic.shape[1],\"width\": mosaic.shape[2],\"transform\": out_trans} )\n",
    "with rasterio.open(f\"{dir_work}/DEM.tif\", \"w\", **out_meta) as dest:\n",
    "    dest.write(mosaic)\n",
    "    "
   ]
  },
  {
   "cell_type": "markdown",
   "metadata": {},
   "source": [
    "# 3. Land Cover - World Cover"
   ]
  },
  {
   "cell_type": "code",
   "execution_count": null,
   "metadata": {},
   "outputs": [],
   "source": [
    "\n",
    "# Search and download the tiles for AOI from World Cover \n",
    "\n",
    "tileList = []\n",
    "\n",
    "for tile in tiles_name:\n",
    "    merge_gpd = gpd.read_file(f\"{dir_work}/{tile}.geojson\")\n",
    "    bounds_AOI = merge_gpd.total_bounds\n",
    "    geometry = box(*bounds_AOI)      \n",
    "   \n",
    "    # create catalogue object and authenticate \n",
    "    catalogue = Catalogue().authenticate() \n",
    "    catalogue = catalogue.authenticate_non_interactive(name_wc, password_wc) \n",
    "    \n",
    "    # search for products in the WorldCover collection \n",
    "    products = catalogue.get_products(\"urn:eop:VITO:ESA_WorldCover_10m_2020_V1\", geometry=geometry) \n",
    "    for c in products:        \n",
    "        file_dir = f\"{dir_work}/WorldCover/{title}\"\n",
    "        if not os.path.isdir(file_dir):\n",
    "            print(f\"{tile} - {title} file NOT exists\")\n",
    "            products = catalogue.get_products(\"urn:eop:VITO:ESA_WorldCover_10m_2020_V1\", geometry=geometry)\n",
    "            catalogue.download_products(products, os.path.join(dir_work, f\"WorldCover\"), force=True)\n",
    "        else:\n",
    "            print(f\"{tile} - {title} exists\")\n",
    "            "
   ]
  },
  {
   "cell_type": "markdown",
   "metadata": {},
   "source": [
    "# 4. Reclassify Land Cover - World Cover"
   ]
  },
  {
   "cell_type": "code",
   "execution_count": null,
   "metadata": {},
   "outputs": [],
   "source": [
    "\n",
    "# Merge all crop polygons together  \n",
    "\n",
    "if os.path.isfile(os.path.join(dir_work, f'merge_polygons.geojson')):\n",
    "    os.remove(os.path.join(dir_work, f'merge_polygon.geojson'))\n",
    "if os.path.isfile(os.path.join(dir_work, f'merge_polygon.shp')):\n",
    "    os.remove(os.path.join(dir_work, f'merge_polygon.shp'))   \n",
    "    \n",
    "files = glob.glob(f'{dir_polygons}/*.{format_aoi}')\n",
    "print('Number of files:',len(files))\n",
    "\n",
    "gdf_merge = pandas.concat([gpd.read_file(shp) for shp in files]).pipe(gpd.GeoDataFrame)\n",
    "gdf_merge.crs = \"EPSG:4326\"\n",
    "\n",
    "polygon_merge = os.path.join(dir_work, f'merge_polygon')\n",
    "merge_file = gdf_merge.to_file(os.path.join(dir_work, f'crop_polygon.geojson'), driver='GeoJSON')\n",
    "merge_file = gdf_merge.to_file(os.path.join(dir_work, f'crop_polygon.shp'))\n",
    "\n",
    "ax_AOI = gdf_merge.plot(figsize = (9,13),facecolor = \"none\", lw = 2, edgecolor = 'red')\n",
    "ax_AOI.plot()\n",
    "\n",
    "print(polygon_merge)"
   ]
  },
  {
   "cell_type": "code",
   "execution_count": null,
   "metadata": {},
   "outputs": [],
   "source": [
    "\n",
    "def rasterize_vector(gdf, profile, **kwargs):\n",
    "    gdf = gdf.to_crs(profile['crs'])\n",
    "    geoms = [g.__geo_interface__ for g in gdf.geometry.values]\n",
    "    mask = rasterio.features.rasterize(\n",
    "            geoms,\n",
    "            out_shape=(profile['width'],profile['height']),\n",
    "            transform=profile['transform'], fill= 0,\n",
    "            **kwargs)\n",
    "    return mask\n",
    "\n",
    "def reclassified_mask(rasterfile, vectorfile, path ):\n",
    "    with rasterio.open(rasterfile) as src_ras:\n",
    "        data_down = src_ras.read(1)\n",
    "        profile = src_ras.profile.copy()\n",
    "            \n",
    "    gdf = gpd.read_file(vectorfile)\n",
    "   \n",
    "    mask = rasterize_vector(gdf, profile)\n",
    "    out_file = f'{path}/raster.tif'\n",
    "    with rasterio.open(out_file, \"w\", **profile) as dst:\n",
    "        dst.write(mask.astype(rasterio.uint8), 1)\n",
    "    \n",
    "    # Create classification\n",
    "    with rasterio.open(out_file) as src_top:\n",
    "        data_top = src_top.read(1)\n",
    "        height, width = data_top.shape  \n",
    "        profile = src_top.profile\n",
    "        data = np.where(data_top==1, value_class, data_down)\n",
    "    \n",
    "    out_name = os.path.join(path,f'reclassify_LC.tif')\n",
    "      \n",
    "    with rasterio.open(out_name,'w', **profile) as dst_final:\n",
    "        dst_final.write(data.astype(rasterio.uint8), 1)\n",
    "        \n",
    "    print(out_name)\n",
    "    \n",
    "    return out_name\n"
   ]
  },
  {
   "cell_type": "code",
   "execution_count": null,
   "metadata": {},
   "outputs": [],
   "source": [
    "\n",
    "LC_tif = glob.glob(os.path.join(f\"{dir_work}/WorldCover/*/\",\"*Map.tif\"))\n",
    "src_files_to_mosaic = []\n",
    "\n",
    "for fp in LC_tif:\n",
    "    if not os.path.isfile(os.path.join(os.path.dirname(fp),\"raster.tif\")):\n",
    "        print(os.path.dirname(os.path.realpath(fp)))\n",
    "        reclassified_mask (fp, os.path.join(dir_work, f'crop_polygon.geojson'), os.path.dirname(fp))\n",
    "    "
   ]
  },
  {
   "cell_type": "code",
   "execution_count": null,
   "metadata": {},
   "outputs": [],
   "source": [
    "\n",
    "# Merge all tiles together \n",
    "\n",
    "LC_tif = glob.glob(os.path.join(f\"{dir_work}/WorldCover/*/\",\"reclassify_LC.tif\"))\n",
    "src_files_to_mosaic = []\n",
    "\n",
    "for fp in LC_tif:\n",
    "    src = rasterio.open(fp)\n",
    "    src_files_to_mosaic.append(src)   \n",
    "\n",
    "mosaic, out_trans = merge(src_files_to_mosaic)\n",
    "\n",
    "profile = src.profile.copy()\n",
    "\n",
    "# out_meta = src.meta.copy()\n",
    "profile.update({\"driver\": \"GTiff\",\n",
    "    \"height\": mosaic.shape[1],\n",
    "    \"width\": mosaic.shape[2],\n",
    "    #\"transform\": out_trans\n",
    "               } )\n",
    "\n",
    "out_WorldCover  = f\"{dir_work}/WorldCover.tif\"\n",
    "\n",
    "with rasterio.open(out_WorldCover, \"w\", **profile) as dest:\n",
    "    dest.write(mosaic)\n",
    "         "
   ]
  },
  {
   "cell_type": "markdown",
   "metadata": {},
   "source": [
    "# 5. Copy constant files"
   ]
  },
  {
   "cell_type": "code",
   "execution_count": null,
   "metadata": {},
   "outputs": [],
   "source": [
    "file_ads = \".adsapirc\"\n",
    "file_cds = \".cdsapirc\"\n",
    "file_flux = \"fluxes_config_template\"\n",
    "file_Sen2Cor = \"Sen2Cor_2.9.0_L2A_GIPP_template\"\n",
    "\n",
    "copyfile(f'/ncr2420/ANSU/6_Tasks/2110_ET/_Template/{file_ads}',os.path.join(dir_work, f\"{file_ads}\"))\n",
    "copyfile(f'/ncr2420/ANSU/6_Tasks/2110_ET/_Template/{file_cds}',os.path.join(dir_work, f\"{file_cds}\"))\n",
    "copyfile(f'/ncr2420/ANSU/6_Tasks/2110_ET/_Template/{file_cds}',os.path.join(dir_work, f\"{file_flux}.txt\"))\n",
    "copyfile(f'/ncr2420/ANSU/6_Tasks/2110_ET/_Template/{file_cds}',os.path.join(dir_work, f\"{file_Sen2Cor}.xml\"))"
   ]
  },
  {
   "cell_type": "markdown",
   "metadata": {},
   "source": [
    "# 6. Azure Storage"
   ]
  },
  {
   "cell_type": "code",
   "execution_count": null,
   "metadata": {},
   "outputs": [],
   "source": [
    "from ccc_devkit.io import azure_blob, filepaths\n",
    "from ccc_devkit.logging.log import add_handlers\n",
    "\n",
    "import subprocess\n",
    "import logging"
   ]
  },
  {
   "cell_type": "code",
   "execution_count": null,
   "metadata": {},
   "outputs": [],
   "source": [
    "logger = logging.getLogger(\"ccc\")\n",
    "logger.setLevel(logging.INFO)\n"
   ]
  },
  {
   "cell_type": "code",
   "execution_count": null,
   "metadata": {},
   "outputs": [],
   "source": [
    "dir_work.upload(path_local=dir_work, path_upload=l2b_path)        )"
   ]
  },
  {
   "cell_type": "code",
   "execution_count": null,
   "metadata": {},
   "outputs": [],
   "source": []
  },
  {
   "cell_type": "code",
   "execution_count": null,
   "metadata": {},
   "outputs": [],
   "source": []
  },
  {
   "cell_type": "code",
   "execution_count": null,
   "metadata": {},
   "outputs": [],
   "source": [
    " sd = azure_blob.AzureStorageDriver()"
   ]
  },
  {
   "cell_type": "code",
   "execution_count": null,
   "metadata": {},
   "outputs": [],
   "source": []
  }
 ],
 "metadata": {
  "kernelspec": {
   "display_name": "Python 3.6 (DHI GRAS)",
   "language": "python",
   "name": "py3"
  },
  "language_info": {
   "codemirror_mode": {
    "name": "ipython",
    "version": 3
   },
   "file_extension": ".py",
   "mimetype": "text/x-python",
   "name": "python",
   "nbconvert_exporter": "python",
   "pygments_lexer": "ipython3",
   "version": "3.6.6"
  }
 },
 "nbformat": 4,
 "nbformat_minor": 2
}
