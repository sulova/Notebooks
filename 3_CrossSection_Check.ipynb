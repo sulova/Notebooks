{
 "cells": [
  {
   "cell_type": "code",
   "execution_count": 1,
   "metadata": {},
   "outputs": [],
   "source": [
    "\n",
    "import numpy as np\n",
    "import matplotlib.pyplot as plt\n",
    "import geopandas as gpd\n",
    "import pandas as pd\n",
    "import plotly_express as px\n",
    "import plotly.graph_objects as go\n",
    "import plotly\n",
    "import shapely.geometry\n",
    "from shapely.geometry import mapping\n",
    "from shapely.geometry import Point, LineString\n",
    "from geopandas import GeoDataFrame\n",
    "from scipy import spatial\n",
    "\n",
    "import requests, io, json\n",
    "import numpy as np\n",
    "import itertools\n",
    "import plotly.express as px\n",
    "from scipy.spatial import distance\n"
   ]
  },
  {
   "cell_type": "markdown",
   "metadata": {},
   "source": [
    "# Function"
   ]
  },
  {
   "cell_type": "code",
   "execution_count": 2,
   "metadata": {},
   "outputs": [],
   "source": [
    "####### Intersection #########\n",
    "\n",
    "# Return true if line segments AB and CD intersect\n",
    "def ccw(A,B,C):\n",
    "    return (C.y-A.y) * (B.x-A.x) > (B.y-A.y) * (C.x-A.x)\n",
    "\n",
    "def intersect(A,B,C,D):\n",
    "    return ccw(A,C,D) != ccw(B,C,D) and ccw(A,B,C) != ccw(A,B,D)\n",
    "\n",
    "def get_intersect(a1, a2, b1, b2):\n",
    "    \"\"\" \n",
    "    Returns the point of intersection of the lines passing through a2,a1 and b2,b1.\n",
    "    a1: [x, y] a point on the first line\n",
    "    a2: [x, y] another point on the first line\n",
    "    b1: [x, y] a point on the second line\n",
    "    b2: [x, y] another point on the second line\n",
    "    \"\"\"\n",
    "    s = np.vstack([a1,a2,b1,b2])        # s for stacked\n",
    "    h = np.hstack((s, np.ones((4, 1)))) # h for homogeneous\n",
    "    l1 = np.cross(h[0], h[1])           # get first line\n",
    "    l2 = np.cross(h[2], h[3])           # get second line\n",
    "    x, y, z = np.cross(l1, l2)          # point of intersection\n",
    "    if z == 0:                          # lines are parallel\n",
    "        return (float('inf'), float('inf'))\n",
    "    return (x/z, y/z)\n",
    "\n",
    "\n",
    "### Nearest Point from Point####\n",
    "def closest_node(node, nodes):\n",
    "    nodes = np.asarray(nodes)\n",
    "    deltas = nodes - node\n",
    "    dist_2 = np.einsum('ij,ij->i', deltas, deltas)\n",
    "    return np.argmin(dist_2),np.min(dist_2)\n",
    "\n",
    "##### IDW ########\n",
    "def distance_matrix(x0, y0, x1, y1):\n",
    "    obs = np.vstack((x0, y0)).T\n",
    "    interp = np.vstack((x1, y1)).T\n",
    "\n",
    "    # Make a distance matrix between pairwise observations\n",
    "    # Note: from <http://stackoverflow.com/questions/1871536>\n",
    "    # (Yay for ufuncs!)\n",
    "    d0 = np.subtract.outer(obs[:,0], interp[:,0])\n",
    "    d1 = np.subtract.outer(obs[:,1], interp[:,1])\n",
    "\n",
    "    return np.hypot(d0, d1)\n",
    "\n",
    "def simple_idw(x, y, z, xi, yi):\n",
    "    dist = distance_matrix(x,y, xi,yi)\n",
    "    # In IDW, weights are 1 / distance\n",
    "    weights = 1.0 / dist\n",
    "    # Make weights sum to one\n",
    "    weights /= weights.sum(axis=0)\n",
    "    # Multiply the weights for each interpolated point by all observed Z-values \n",
    "    zi = np.dot(weights.T, z)\n",
    "    return zi\n"
   ]
  },
  {
   "cell_type": "markdown",
   "metadata": {},
   "source": [
    "# Read File"
   ]
  },
  {
   "cell_type": "code",
   "execution_count": 3,
   "metadata": {},
   "outputs": [
    {
     "data": {
      "text/html": [
       "<div>\n",
       "<style scoped>\n",
       "    .dataframe tbody tr th:only-of-type {\n",
       "        vertical-align: middle;\n",
       "    }\n",
       "\n",
       "    .dataframe tbody tr th {\n",
       "        vertical-align: top;\n",
       "    }\n",
       "\n",
       "    .dataframe thead th {\n",
       "        text-align: right;\n",
       "    }\n",
       "</style>\n",
       "<table border=\"1\" class=\"dataframe\">\n",
       "  <thead>\n",
       "    <tr style=\"text-align: right;\">\n",
       "      <th></th>\n",
       "      <th>depth</th>\n",
       "      <th>x</th>\n",
       "      <th>y</th>\n",
       "      <th>srf</th>\n",
       "      <th>weak beam</th>\n",
       "      <th>high noise</th>\n",
       "      <th>date</th>\n",
       "      <th>track_key</th>\n",
       "      <th>ATL03 fold</th>\n",
       "      <th>ml_name</th>\n",
       "      <th>geometry</th>\n",
       "    </tr>\n",
       "  </thead>\n",
       "  <tbody>\n",
       "    <tr>\n",
       "      <th>0</th>\n",
       "      <td>-16.192910</td>\n",
       "      <td>243562.075781</td>\n",
       "      <td>2.892521e+06</td>\n",
       "      <td>-32.736122</td>\n",
       "      <td>1</td>\n",
       "      <td>1</td>\n",
       "      <td>20181018</td>\n",
       "      <td>gt1l</td>\n",
       "      <td>20181018T202112</td>\n",
       "      <td>stacked_lstm_model_v1.h5</td>\n",
       "      <td>POINT (243562.0757806193 2892520.860430578)</td>\n",
       "    </tr>\n",
       "    <tr>\n",
       "      <th>1</th>\n",
       "      <td>-16.439189</td>\n",
       "      <td>243561.090563</td>\n",
       "      <td>2.892534e+06</td>\n",
       "      <td>-32.735333</td>\n",
       "      <td>1</td>\n",
       "      <td>1</td>\n",
       "      <td>20181018</td>\n",
       "      <td>gt1l</td>\n",
       "      <td>20181018T202112</td>\n",
       "      <td>stacked_lstm_model_v1.h5</td>\n",
       "      <td>POINT (243561.0905625777 2892533.66505603)</td>\n",
       "    </tr>\n",
       "  </tbody>\n",
       "</table>\n",
       "</div>"
      ],
      "text/plain": [
       "       depth              x             y        srf  weak beam  high noise  \\\n",
       "0 -16.192910  243562.075781  2.892521e+06 -32.736122          1           1   \n",
       "1 -16.439189  243561.090563  2.892534e+06 -32.735333          1           1   \n",
       "\n",
       "       date track_key       ATL03 fold                   ml_name  \\\n",
       "0  20181018      gt1l  20181018T202112  stacked_lstm_model_v1.h5   \n",
       "1  20181018      gt1l  20181018T202112  stacked_lstm_model_v1.h5   \n",
       "\n",
       "                                      geometry  \n",
       "0  POINT (243562.0757806193 2892520.860430578)  \n",
       "1   POINT (243561.0905625777 2892533.66505603)  "
      ]
     },
     "execution_count": 3,
     "metadata": {},
     "output_type": "execute_result"
    }
   ],
   "source": [
    "# Read an inpu file\n",
    "\n",
    "icesat = '/home/jovyan/exchange/4_Validation/icesat2_processed_raw.shp'\n",
    "icesat = gpd.read_file(icesat)\n",
    "\n",
    "df = pd.DataFrame(icesat)\n",
    "df.head(2)\n"
   ]
  },
  {
   "cell_type": "markdown",
   "metadata": {},
   "source": [
    "# 1) Plot All Lines"
   ]
  },
  {
   "cell_type": "markdown",
   "metadata": {},
   "source": [
    "A) Point Dataframe and interactive plots"
   ]
  },
  {
   "cell_type": "code",
   "execution_count": 4,
   "metadata": {},
   "outputs": [
    {
     "name": "stdout",
     "output_type": "stream",
     "text": [
      "Number of lines: 185\n"
     ]
    },
    {
     "data": {
      "image/png": "[encoded data removed]",
      "text/plain": [
       "<Figure size 360x360 with 1 Axes>"
      ]
     },
     "metadata": {
      "needs_background": "light"
     },
     "output_type": "display_data"
    },
    {
     "data": {
      "text/plain": [
       "'1_Icesat2.html'"
      ]
     },
     "execution_count": 4,
     "metadata": {},
     "output_type": "execute_result"
    }
   ],
   "source": [
    "\n",
    "# Create a unique ID\n",
    "df['ID'] = df['date'].astype(str) + df['track_key']\n",
    "groups = df.groupby('ID')[['x','y']]\n",
    "print(\"Number of lines:\",len(groups))\n",
    "\n",
    "# Plot a standart plot\n",
    "fig, ax = plt.subplots(figsize=(5,5))\n",
    "for track, group in groups:\n",
    "    ax.plot(group.x, group.y, marker='o', linestyle='-', ms=1.2, label=track)\n",
    "# ax.legend()\n",
    "plt.show()\n",
    "\n",
    "# Plot a interactive plot\n",
    "fig = px.scatter(df, x='x', y='y', color='ID',hover_name='depth')\n",
    "fig = px.line(df, x='x', y='y', color='ID', markers=True)\n",
    "plotly.offline.plot(fig, filename='1_Icesat2.html')\n"
   ]
  },
  {
   "cell_type": "code",
   "execution_count": 5,
   "metadata": {},
   "outputs": [
    {
     "data": {
      "text/html": [
       "<div>\n",
       "<style scoped>\n",
       "    .dataframe tbody tr th:only-of-type {\n",
       "        vertical-align: middle;\n",
       "    }\n",
       "\n",
       "    .dataframe tbody tr th {\n",
       "        vertical-align: top;\n",
       "    }\n",
       "\n",
       "    .dataframe thead th {\n",
       "        text-align: right;\n",
       "    }\n",
       "</style>\n",
       "<table border=\"1\" class=\"dataframe\">\n",
       "  <thead>\n",
       "    <tr style=\"text-align: right;\">\n",
       "      <th></th>\n",
       "      <th>geometry</th>\n",
       "    </tr>\n",
       "    <tr>\n",
       "      <th>ID</th>\n",
       "      <th></th>\n",
       "    </tr>\n",
       "  </thead>\n",
       "  <tbody>\n",
       "    <tr>\n",
       "      <th>20181018gt1l</th>\n",
       "      <td>LINESTRING (243562.0757806193 2892520.86043057...</td>\n",
       "    </tr>\n",
       "    <tr>\n",
       "      <th>20181018gt1r</th>\n",
       "      <td>LINESTRING (243751.6051469923 2891093.46944651...</td>\n",
       "    </tr>\n",
       "  </tbody>\n",
       "</table>\n",
       "</div>"
      ],
      "text/plain": [
       "                                                       geometry\n",
       "ID                                                             \n",
       "20181018gt1l  LINESTRING (243562.0757806193 2892520.86043057...\n",
       "20181018gt1r  LINESTRING (243751.6051469923 2891093.46944651..."
      ]
     },
     "execution_count": 5,
     "metadata": {},
     "output_type": "execute_result"
    }
   ],
   "source": [
    "\n",
    "# Tracks to Linestring\n",
    "geometry = [Point(xy) for xy in zip(df.x, df.y)]\n",
    "df = GeoDataFrame(df, geometry = geometry)\n",
    "df['ID'] = df['date'].astype(str) + df['track_key']\n",
    "\n",
    "# Aggregate these points with the GroupBy\n",
    "df_group = df.groupby(['ID'])['geometry'].apply(lambda x: LineString(x.tolist()))\n",
    "gdf_linestring = GeoDataFrame(df_group, geometry = 'geometry')\n",
    "gdf_linestring.head(2)\n",
    "\n",
    "# gdf_linestring.plot(column=gdf_linestring.index.values, figsize = (5,10), legend=True)\n"
   ]
  },
  {
   "cell_type": "code",
   "execution_count": 6,
   "metadata": {},
   "outputs": [
    {
     "data": {
      "text/html": [
       "<div>\n",
       "<style scoped>\n",
       "    .dataframe tbody tr th:only-of-type {\n",
       "        vertical-align: middle;\n",
       "    }\n",
       "\n",
       "    .dataframe tbody tr th {\n",
       "        vertical-align: top;\n",
       "    }\n",
       "\n",
       "    .dataframe thead th {\n",
       "        text-align: right;\n",
       "    }\n",
       "</style>\n",
       "<table border=\"1\" class=\"dataframe\">\n",
       "  <thead>\n",
       "    <tr style=\"text-align: right;\">\n",
       "      <th></th>\n",
       "      <th>depth_x</th>\n",
       "      <th>x_x</th>\n",
       "      <th>y_x</th>\n",
       "      <th>srf_x</th>\n",
       "      <th>weak beam_x</th>\n",
       "      <th>high noise_x</th>\n",
       "      <th>date_x</th>\n",
       "      <th>track_key_x</th>\n",
       "      <th>ATL03 fold_x</th>\n",
       "      <th>ml_name_x</th>\n",
       "      <th>...</th>\n",
       "      <th>x_y</th>\n",
       "      <th>y_y</th>\n",
       "      <th>srf_y</th>\n",
       "      <th>weak beam_y</th>\n",
       "      <th>high noise_y</th>\n",
       "      <th>date_y</th>\n",
       "      <th>track_key_y</th>\n",
       "      <th>ATL03 fold_y</th>\n",
       "      <th>ml_name_y</th>\n",
       "      <th>geometry_y</th>\n",
       "    </tr>\n",
       "  </thead>\n",
       "  <tbody>\n",
       "    <tr>\n",
       "      <th>0</th>\n",
       "      <td>-6.333849</td>\n",
       "      <td>235862.134008</td>\n",
       "      <td>2.991913e+06</td>\n",
       "      <td>-34.648979</td>\n",
       "      <td>1</td>\n",
       "      <td>0</td>\n",
       "      <td>20181018</td>\n",
       "      <td>gt1l</td>\n",
       "      <td>20181018T202814</td>\n",
       "      <td>stacked_lstm_model_v1.h5</td>\n",
       "      <td>...</td>\n",
       "      <td>243562.075781</td>\n",
       "      <td>2.892521e+06</td>\n",
       "      <td>-32.736122</td>\n",
       "      <td>1</td>\n",
       "      <td>1</td>\n",
       "      <td>20181018</td>\n",
       "      <td>gt1l</td>\n",
       "      <td>20181018T202112</td>\n",
       "      <td>stacked_lstm_model_v1.h5</td>\n",
       "      <td>POINT (243562.0757806193 2892520.860430578)</td>\n",
       "    </tr>\n",
       "    <tr>\n",
       "      <th>1</th>\n",
       "      <td>-16.015138</td>\n",
       "      <td>235882.131338</td>\n",
       "      <td>2.992675e+06</td>\n",
       "      <td>-34.709790</td>\n",
       "      <td>0</td>\n",
       "      <td>0</td>\n",
       "      <td>20181018</td>\n",
       "      <td>gt1r</td>\n",
       "      <td>20181018T202814</td>\n",
       "      <td>stacked_lstm_model_v1.h5</td>\n",
       "      <td>...</td>\n",
       "      <td>243751.605147</td>\n",
       "      <td>2.891093e+06</td>\n",
       "      <td>-32.932191</td>\n",
       "      <td>0</td>\n",
       "      <td>1</td>\n",
       "      <td>20181018</td>\n",
       "      <td>gt1r</td>\n",
       "      <td>20181018T202112</td>\n",
       "      <td>stacked_lstm_model_v1.h5</td>\n",
       "      <td>POINT (243751.6051469923 2891093.469446518)</td>\n",
       "    </tr>\n",
       "    <tr>\n",
       "      <th>2</th>\n",
       "      <td>-1.296220</td>\n",
       "      <td>239208.270920</td>\n",
       "      <td>2.990129e+06</td>\n",
       "      <td>-34.598163</td>\n",
       "      <td>1</td>\n",
       "      <td>0</td>\n",
       "      <td>20181018</td>\n",
       "      <td>gt2l</td>\n",
       "      <td>20181018T202814</td>\n",
       "      <td>stacked_lstm_model_v1.h5</td>\n",
       "      <td>...</td>\n",
       "      <td>246907.926142</td>\n",
       "      <td>2.890777e+06</td>\n",
       "      <td>-32.699842</td>\n",
       "      <td>1</td>\n",
       "      <td>1</td>\n",
       "      <td>20181018</td>\n",
       "      <td>gt2l</td>\n",
       "      <td>20181018T202112</td>\n",
       "      <td>stacked_lstm_model_v1.h5</td>\n",
       "      <td>POINT (246907.9261422285 2890776.571861077)</td>\n",
       "    </tr>\n",
       "  </tbody>\n",
       "</table>\n",
       "<p>3 rows × 23 columns</p>\n",
       "</div>"
      ],
      "text/plain": [
       "     depth_x            x_x           y_x      srf_x  weak beam_x  \\\n",
       "0  -6.333849  235862.134008  2.991913e+06 -34.648979            1   \n",
       "1 -16.015138  235882.131338  2.992675e+06 -34.709790            0   \n",
       "2  -1.296220  239208.270920  2.990129e+06 -34.598163            1   \n",
       "\n",
       "   high noise_x    date_x track_key_x     ATL03 fold_x  \\\n",
       "0             0  20181018        gt1l  20181018T202814   \n",
       "1             0  20181018        gt1r  20181018T202814   \n",
       "2             0  20181018        gt2l  20181018T202814   \n",
       "\n",
       "                  ml_name_x                     ...                       \\\n",
       "0  stacked_lstm_model_v1.h5                     ...                        \n",
       "1  stacked_lstm_model_v1.h5                     ...                        \n",
       "2  stacked_lstm_model_v1.h5                     ...                        \n",
       "\n",
       "             x_y           y_y      srf_y  weak beam_y  high noise_y  \\\n",
       "0  243562.075781  2.892521e+06 -32.736122            1             1   \n",
       "1  243751.605147  2.891093e+06 -32.932191            0             1   \n",
       "2  246907.926142  2.890777e+06 -32.699842            1             1   \n",
       "\n",
       "     date_y  track_key_y     ATL03 fold_y                 ml_name_y  \\\n",
       "0  20181018         gt1l  20181018T202112  stacked_lstm_model_v1.h5   \n",
       "1  20181018         gt1r  20181018T202112  stacked_lstm_model_v1.h5   \n",
       "2  20181018         gt2l  20181018T202112  stacked_lstm_model_v1.h5   \n",
       "\n",
       "                                    geometry_y  \n",
       "0  POINT (243562.0757806193 2892520.860430578)  \n",
       "1  POINT (243751.6051469923 2891093.469446518)  \n",
       "2  POINT (246907.9261422285 2890776.571861077)  \n",
       "\n",
       "[3 rows x 23 columns]"
      ]
     },
     "execution_count": 6,
     "metadata": {},
     "output_type": "execute_result"
    }
   ],
   "source": [
    "\n",
    "# Find max and min X coordinates for each line and append an Y coordinate accordingly\n",
    "idxmin = df.groupby(by ='ID')['x'].idxmin()\n",
    "df_min = df.loc[idxmin,]\n",
    "\n",
    "idxmax = df.groupby(by ='ID')['x'].idxmax()\n",
    "df_max = df.loc[idxmax,]\n",
    "\n",
    "df_xy = df_min.merge(df_max, how = 'left', on='ID')\n",
    "df_xy.head(3)\n"
   ]
  },
  {
   "cell_type": "code",
   "execution_count": 7,
   "metadata": {},
   "outputs": [
    {
     "data": {
      "text/html": [
       "<div>\n",
       "<style scoped>\n",
       "    .dataframe tbody tr th:only-of-type {\n",
       "        vertical-align: middle;\n",
       "    }\n",
       "\n",
       "    .dataframe tbody tr th {\n",
       "        vertical-align: top;\n",
       "    }\n",
       "\n",
       "    .dataframe thead th {\n",
       "        text-align: right;\n",
       "    }\n",
       "</style>\n",
       "<table border=\"1\" class=\"dataframe\">\n",
       "  <thead>\n",
       "    <tr style=\"text-align: right;\">\n",
       "      <th></th>\n",
       "      <th>depth_x</th>\n",
       "      <th>x_x</th>\n",
       "      <th>y_x</th>\n",
       "      <th>srf_x</th>\n",
       "      <th>weak beam_x</th>\n",
       "      <th>high noise_x</th>\n",
       "      <th>date_x</th>\n",
       "      <th>track_key_x</th>\n",
       "      <th>ATL03 fold_x</th>\n",
       "      <th>ml_name_x</th>\n",
       "      <th>...</th>\n",
       "      <th>y_y</th>\n",
       "      <th>srf_y</th>\n",
       "      <th>weak beam_y</th>\n",
       "      <th>high noise_y</th>\n",
       "      <th>date_y</th>\n",
       "      <th>track_key_y</th>\n",
       "      <th>ATL03 fold_y</th>\n",
       "      <th>ml_name_y</th>\n",
       "      <th>geometry_y</th>\n",
       "      <th>geometry</th>\n",
       "    </tr>\n",
       "  </thead>\n",
       "  <tbody>\n",
       "    <tr>\n",
       "      <th>0</th>\n",
       "      <td>-6.333849</td>\n",
       "      <td>235862.134008</td>\n",
       "      <td>2.991913e+06</td>\n",
       "      <td>-34.648979</td>\n",
       "      <td>1</td>\n",
       "      <td>0</td>\n",
       "      <td>20181018</td>\n",
       "      <td>gt1l</td>\n",
       "      <td>20181018T202814</td>\n",
       "      <td>stacked_lstm_model_v1.h5</td>\n",
       "      <td>...</td>\n",
       "      <td>2.892521e+06</td>\n",
       "      <td>-32.736122</td>\n",
       "      <td>1</td>\n",
       "      <td>1</td>\n",
       "      <td>20181018</td>\n",
       "      <td>gt1l</td>\n",
       "      <td>20181018T202112</td>\n",
       "      <td>stacked_lstm_model_v1.h5</td>\n",
       "      <td>POINT (243562.0757806193 2892520.860430578)</td>\n",
       "      <td>LINESTRING (235862.1340082197 2991912.57873340...</td>\n",
       "    </tr>\n",
       "  </tbody>\n",
       "</table>\n",
       "<p>1 rows × 24 columns</p>\n",
       "</div>"
      ],
      "text/plain": [
       "    depth_x            x_x           y_x      srf_x  weak beam_x  \\\n",
       "0 -6.333849  235862.134008  2.991913e+06 -34.648979            1   \n",
       "\n",
       "   high noise_x    date_x track_key_x     ATL03 fold_x  \\\n",
       "0             0  20181018        gt1l  20181018T202814   \n",
       "\n",
       "                  ml_name_x  \\\n",
       "0  stacked_lstm_model_v1.h5   \n",
       "\n",
       "                         ...                                   y_y      srf_y  \\\n",
       "0                        ...                          2.892521e+06 -32.736122   \n",
       "\n",
       "   weak beam_y  high noise_y    date_y  track_key_y     ATL03 fold_y  \\\n",
       "0            1             1  20181018         gt1l  20181018T202112   \n",
       "\n",
       "                  ml_name_y                                   geometry_y  \\\n",
       "0  stacked_lstm_model_v1.h5  POINT (243562.0757806193 2892520.860430578)   \n",
       "\n",
       "                                            geometry  \n",
       "0  LINESTRING (235862.1340082197 2991912.57873340...  \n",
       "\n",
       "[1 rows x 24 columns]"
      ]
     },
     "execution_count": 7,
     "metadata": {},
     "output_type": "execute_result"
    }
   ],
   "source": [
    "\n",
    "# create a Linestring GeoDataFrame from max and min coordinates[x,y]\n",
    "gdf = gpd.GeoDataFrame(\n",
    "    data = df_xy,\n",
    "    geometry = df_xy.apply(\n",
    "        lambda r: shapely.geometry.LineString([(r[\"x_x\"], r[\"y_x\"]),(r[\"x_y\"], r[\"y_y\"]) ]), axis=1)) \n",
    "\n",
    "gdf.head(1)\n",
    "\n"
   ]
  },
  {
   "cell_type": "markdown",
   "metadata": {},
   "source": [
    "# 2) Intersection Points of icesat-2 tracks"
   ]
  },
  {
   "cell_type": "code",
   "execution_count": 8,
   "metadata": {},
   "outputs": [
    {
     "name": "stdout",
     "output_type": "stream",
     "text": [
      "Total Number of Intersections: 848\n"
     ]
    },
    {
     "data": {
      "text/plain": [
       "'2_Intersections.html'"
      ]
     },
     "execution_count": 8,
     "metadata": {},
     "output_type": "execute_result"
    },
    {
     "data": {
      "image/png": "[encoded data removed]",
      "text/plain": [
       "<Figure size 720x360 with 1 Axes>"
      ]
     },
     "metadata": {
      "needs_background": "light"
     },
     "output_type": "display_data"
    }
   ],
   "source": [
    "\n",
    "i=0\n",
    "j=0\n",
    "df_inter = pd.DataFrame(columns=['L1', 'L2', 'x_int','y_int'])\n",
    "\n",
    "for index1, row1 in df_xy.iterrows():\n",
    "    a1= Point(row1.x_x,row1.y_x)\n",
    "    a2= Point(row1.x_y,row1.y_y)\n",
    "    i+=1\n",
    "    for index2, row2 in df_xy[i:].iterrows():\n",
    "        b1= Point(row2.x_x,row2.y_x)\n",
    "        b2= Point(row2.x_y,row2.y_y)\n",
    "        if intersect(a1,a2,b1,b2)==True:\n",
    "            j+=1\n",
    "            x_int, y_int = get_intersect(a1,a2,b1,b2)\n",
    "            df_inter.loc[j] = [row1.ID, row2.ID,x_int, y_int]\n",
    "                            \n",
    "\n",
    "print('Total Number of Intersections:',len(df_inter))\n",
    "df_inter.head(3)\n",
    "\n",
    "fig, ax = plt.subplots(figsize=(10, 5))\n",
    "\n",
    "plt.scatter(df.x, df.y, label='Icesat-tracks',s=5)\n",
    "plt.scatter(df_inter.x_int,df_inter.y_int, s=10 ,c='r', label='intersection')\n",
    "plt.legend()\n",
    "\n",
    "df_inter['dummy_size'] = .5\n",
    "\n",
    "fig1 = px.line(df, x='x', y='y', color='ID', markers=True,)\n",
    "fig1.update_traces(line=dict(color = 'rgba(50,50,50,0.2)'))\n",
    "fig2 = px.scatter(df_inter, x='x_int', y='y_int', hover_name='L2', color_discrete_sequence = ['red'], size='dummy_size', size_max=10, width=100)\n",
    "\n",
    "fig3 = go.Figure(data=fig1.data + fig2.data)\n",
    "plotly.offline.plot(fig3, filename='2_Intersections.html')\n"
   ]
  },
  {
   "cell_type": "markdown",
   "metadata": {},
   "source": [
    "# 3) Nearest Points from Intersection Points"
   ]
  },
  {
   "cell_type": "code",
   "execution_count": null,
   "metadata": {},
   "outputs": [
    {
     "name": "stdout",
     "output_type": "stream",
     "text": [
      "Number of intersections: 848 Number of all icesat points: 5319496\n"
     ]
    }
   ],
   "source": [
    "\n",
    "# Create geometries \n",
    "geom_list_intersection = [shapely.geometry.Point(lon,lat) for lon,lat in zip(df_inter[\"x_int\"],df_inter[\"y_int\"])] # check the ordering of lon/lat\n",
    "geom_list_points = [shapely.geometry.Point(lon,lat) for lon,lat in zip(df[\"x\"],df[\"y\"])] # check the ordering of lon/lat\n",
    "\n",
    "# Create geopandas dataframe\n",
    "gdf_intersection = gpd.GeoDataFrame(df_inter, geometry=geom_list_intersection, crs = {\"init\":\"EPSG:4326\"})\n",
    "gdf_points = gpd.GeoDataFrame(df, geometry = geom_list_points, crs = {\"init\":\"EPSG:4326\"})\n",
    "\n",
    "print('Number of intersections:',len(gdf_intersection), 'Number of all icesat points:',len(gdf_points))\n"
   ]
  },
  {
   "cell_type": "code",
   "execution_count": null,
   "metadata": {},
   "outputs": [],
   "source": [
    "\n",
    "# Distance from Interserction L1\n",
    "for index, row in df_inter.iterrows():\n",
    "    L1_points = gdf_points[gdf_points['ID']== row.L1]\n",
    "    points_all = [(x,y) for x,y in zip(L1_points.x , L1_points.y)]\n",
    "    point = (row.x_int,row.y_int)\n",
    "    a = closest_node(point, points_all)\n",
    "    df_inter.at[index, 'L1_x'] = L1_points.iloc[[a[0]]].x.values\n",
    "    df_inter.at[index, 'L1_y'] = L1_points.iloc[[a[0]]].y.values\n",
    "    df_inter.at[index, 'Depth_L1'] = L1_points.iloc[[a[0]]].depth.values\n",
    "    # df_inter.at[index, 'Dis_L1'] = distance.euclidean(point,(L1_points.iloc[[a[0]]].x.values, L1_points.iloc[[a[0]]].y.values) )\n",
    "    # df_inter.at[index, 'Dist_L1'] = a[1]\n",
    "\n",
    "# Distance from Interserction L2\n",
    "for index, row in df_inter.iterrows():\n",
    "    L2_points = gdf_points[gdf_points['ID']== row.L2]\n",
    "    points_all = [(x,y) for x,y in zip(L2_points.x , L2_points.y)]\n",
    "    point = (row.x_int,row.y_int)\n",
    "    a = closest_node(point, points_all)\n",
    "    df_inter.at[index, 'L2_x'] = L2_points.iloc[[a[0]]].x.values\n",
    "    df_inter.at[index, 'L2_y'] = L2_points.iloc[[a[0]]].y.values\n",
    "    df_inter.at[index, 'Depth_L2'] = L2_points.iloc[[a[0]]].depth.values\n",
    "    # df_inter.at[index, 'Dis_L2'] = distance.euclidean(point,(L2_points.iloc[[a[0]]].x.values, L2_points.iloc[[a[0]]].y.values) )\n",
    "    # df_inter.at[index, 'Dist_L2'] = a[1]\n",
    "\n",
    "# Distance between Point_L1 and Point_L2\n",
    "for index, row in df_inter.iterrows():\n",
    "    dis = distance.euclidean((df_inter.L1_x[index], df_inter.L1_y[index]),(df_inter.L2_x[index],df_inter.L2_y[index]))\n",
    "    df_inter.at[index, 'Distance_L12'] = dis\n",
    "    \n",
    "# IWK\n",
    "for index, row in df_inter.iterrows():\n",
    "    Points_L1 = gdf_points[gdf_points['ID']== row.L1]\n",
    "    Points_L2 = gdf_points[gdf_points['ID']== row.L2]\n",
    "    df_inter.at[index, 'Depth_iwk_L1'] = simple_idw(Points_L1.x, Points_L1.y, Points_L1.depth, df_inter.x_int[index], df_inter.y_int[index])\n",
    "    df_inter.at[index, 'Depth_iwk_L2'] = simple_idw(Points_L2.x, Points_L2.y, Points_L2.depth, df_inter.x_int[index], df_inter.y_int[index])\n",
    "    \n",
    "df_inter['Dif_Depth_iwk'] = (df_inter.Depth_iwk_L1-df_inter.Depth_iwk_L2)  \n",
    "df_inter['Dif_Depth'] = (df_inter.Depth_L1-df_inter.Depth_L2)\n",
    "df_inter['Track Pairs'] = df_inter['L1'].astype(str) + ' ' + df_inter['L2']\n",
    "\n",
    "\n",
    "df_inter.head(2)\n"
   ]
  },
  {
   "cell_type": "code",
   "execution_count": null,
   "metadata": {},
   "outputs": [],
   "source": [
    "\n"
   ]
  },
  {
   "cell_type": "code",
   "execution_count": null,
   "metadata": {},
   "outputs": [],
   "source": []
  },
  {
   "cell_type": "markdown",
   "metadata": {},
   "source": [
    "# 4. Plot final results"
   ]
  },
  {
   "cell_type": "code",
   "execution_count": null,
   "metadata": {},
   "outputs": [],
   "source": [
    "# Filter Distance\n",
    "\n",
    "df_inter_100m = df_inter[df_inter['Distance_L12']<100]\n",
    "\n",
    "print('Number of points:',len(df_inter))\n",
    "print('Number of points with distance lower than 100m:',len(df_inter_100m))"
   ]
  },
  {
   "cell_type": "code",
   "execution_count": null,
   "metadata": {},
   "outputs": [],
   "source": [
    "\n",
    "# Interactive plots\n",
    "#fig = px.line(df, x='x', y='y', color='ID')\n",
    "\n",
    "fig1= px.scatter(df_inter_100m, x = 'x_int', y = 'y_int', color_discrete_sequence = ['red'])\n",
    "fig2 = px.scatter(df_inter_100m, x = 'L1_x', y = 'L1_y', color_discrete_sequence = ['blue'])\n",
    "fig3 = px.scatter(df_inter_100m, x = 'L2_x', y = 'L2_y', color_discrete_sequence = ['yellow'])\n",
    "fig4 = go.Figure(data = fig1.data + fig2.data + fig3.data)\n",
    "plotly.offline.plot(fig4, filename ='3_Intersection_Nearest.html')\n",
    "\n"
   ]
  },
  {
   "cell_type": "code",
   "execution_count": null,
   "metadata": {},
   "outputs": [],
   "source": [
    "\n",
    "fig = px.scatter(df_inter_100m, x = 'Distance_L12', y = 'Dif_Depth', hover_name = 'Depth_L2',\n",
    "                 marginal_x = \"histogram\", marginal_y = \"histogram\", title = \"Plot Title\")\n",
    "\n",
    "fig.update_layout(\n",
    "    title = \"Depth Differences at Cross-Sections of ICESat-2 Tracks\",\n",
    "    xaxis_title = \"△ Distance [m]\",\n",
    "    yaxis_title = \"△ Depth [m]\",\n",
    "    font = dict(family =\" \",size = 10,color = \"#7f7f7f\" ))\n",
    "\n",
    "fig.add_hline(y = 0)\n",
    "fig.add_vline(x = 0)\n",
    "\n",
    "plotly.offline.plot(fig, filename='4_CrossSection.html')\n",
    "\n"
   ]
  },
  {
   "cell_type": "code",
   "execution_count": null,
   "metadata": {},
   "outputs": [],
   "source": [
    "\n",
    "fig = px.scatter(df_inter_100m, x = 'Distance_L12', y = 'Dif_Depth_iwk', hover_name = 'Depth_L2',\n",
    "                 marginal_x = \"histogram\", marginal_y = \"histogram\", title = \"Plot Title\")\n",
    "\n",
    "fig.update_layout(\n",
    "    title = \"Depth Differences at Cross-Sections of ICESat-2 Tracks\",\n",
    "    xaxis_title = \"△ Distance [m]\",\n",
    "    yaxis_title = \"△ Depth [m]\",\n",
    "    font = dict(family =\" \",size = 10,color = \"#7f7f7f\" ))\n",
    "\n",
    "fig.add_hline(y = 0)\n",
    "fig.add_vline(x = 0)\n",
    "\n",
    "plotly.offline.plot(fig, filename='4_CrossSection_iwk.html')\n",
    "\n"
   ]
  },
  {
   "cell_type": "code",
   "execution_count": null,
   "metadata": {},
   "outputs": [],
   "source": [
    "\n",
    "# Export Points to Shp\n",
    "\n",
    "df_inter_100m['geometry'] = df_inter_100m.apply(lambda row: Point(row.x_int,row.y_int),axis=1)\n",
    "gdf = gpd.GeoDataFrame(df_inter_100m, geometry = df_inter_100m.geometry)\n",
    "gdf.to_file(driver = 'ESRI Shapefile', filename= \"Intersection.shp\")\n",
    "\n",
    "df_inter_100m['geometry'] = df_inter_100m.apply(lambda row: Point(row.L1_x,row.L1_y),axis=1)\n",
    "gdf = gpd.GeoDataFrame(df_inter_100m, geometry = df_inter_100m.geometry)\n",
    "gdf.to_file(driver = 'ESRI Shapefile', filename= \"Near_L1.shp\")\n",
    "\n",
    "df_inter_100m['geometry'] = df_inter_100m.apply(lambda row: Point(row.L2_x,row.L2_y),axis=1)\n",
    "gdf = gpd.GeoDataFrame(df_inter_100m, geometry = df_inter_100m.geometry)\n",
    "gdf.to_file(driver = 'ESRI Shapefile', filename= \"Near_L2.shp\")"
   ]
  }
 ],
 "metadata": {
  "kernelspec": {
   "display_name": "Python 3.6 (DHI GRAS)",
   "language": "python",
   "name": "py3"
  },
  "language_info": {
   "codemirror_mode": {
    "name": "ipython",
    "version": 3
   },
   "file_extension": ".py",
   "mimetype": "text/x-python",
   "name": "python",
   "nbconvert_exporter": "python",
   "pygments_lexer": "ipython3",
   "version": "3.6.6"
  }
 },
 "nbformat": 4,
 "nbformat_minor": 2
}
