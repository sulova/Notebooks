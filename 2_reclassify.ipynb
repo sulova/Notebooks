{
 "cells": [
  {
   "cell_type": "code",
   "execution_count": 1,
   "metadata": {},
   "outputs": [],
   "source": [
    "import os\n",
    "import glob\n",
    "import json\n",
    "import geojson\n",
    "import zipfile\n",
    "import rasterio\n",
    "import pyproj\n",
    "import pathlib\n",
    "import pandas\n",
    "\n",
    "import geopandas as gpd\n",
    "import rasterio.features\n",
    "from rasterio import features\n",
    "from rasterio.plot import show\n",
    "from rasterio.merge import merge   \n",
    "from rasterio.plot import show\n",
    "from shutil import copyfile\n",
    "from pathlib import Path\n",
    "from shapely.geometry import Polygon, box\n",
    "from shapely import geometry, wkt\n",
    "from pprint import pprint, pformat\n",
    "import matplotlib.pyplot as plt\n",
    "\n",
    "from sentinelsat import SentinelAPI, read_geojson, geojson_to_wkt \n",
    "from terracatalogueclient import Catalogue \n",
    "from creodias_finder import query, download"
   ]
  },
  {
   "cell_type": "markdown",
   "metadata": {},
   "source": [
    "**Inputs**"
   ]
  },
  {
   "cell_type": "code",
   "execution_count": 2,
   "metadata": {},
   "outputs": [],
   "source": [
    "\n",
    "# Name of the AOI\n",
    "name = \"uk\"\n",
    "\n",
    "# AOI formatL: shp & geojson\n",
    "format_aoi = \"shp\"\n",
    "\n",
    "# Start and end date for S2 scenes\n",
    "date_start, date_end= \"20210501\", \"20211030\"\n",
    "\n",
    "# WorldCover - https://viewer.esa-worldcover.org/worldcover\n",
    "name_wc, password_wc = \"sulova\", \"Sulova327\"\n",
    "\n",
    "# Sentinel S2 - https://apihub.copernicus.eu/apihub\n",
    "sentinel_user, sentinel_pw = \"sulova327\", \"sulova327\"\n",
    "\n",
    "# Creodias Copernicus DEM(30m) - https://finder.creodias.eu/\n",
    "creodias_user, creodias_pw = \"ansu@dhigroup.com\", \"Sulova327\"\n",
    "\n",
    "# Directories for AOI, work directory, S2 tile Grid, polygons of specific crops\n",
    "dir_AOI =  pathlib.Path(f\"/ncr2420/ANSU/6_Tasks/2110_ET/{name}/AOI\")\n",
    "dir_work =  pathlib.Path(f\"/ncr2420/ANSU/6_Tasks/2110_ET/{name}\")\n",
    "S2_Grid =  gpd.read_file('/ncr2420/ANSU/3_Data/S2-Tiles/sentinel2_tiles_world.shp')\n",
    "dir_polygons =  pathlib.Path(f\"/ncr2420/ANSU/6_Tasks/2110_ET/{name}/MS_Bounds/Field Bounds\")\n",
    "\n",
    "# Value for reclassification\n",
    "value_class = 73\n"
   ]
  },
  {
   "cell_type": "markdown",
   "metadata": {},
   "source": [
    "# 1. Merge all the AOI files"
   ]
  },
  {
   "cell_type": "code",
   "execution_count": 4,
   "metadata": {},
   "outputs": [
    {
     "name": "stderr",
     "output_type": "stream",
     "text": [
      "/home/jovyan/.conda/envs/py3/lib/python3.6/site-packages/geopandas/io/file.py:108: FionaDeprecationWarning: Use fiona.Env() instead.\n",
      "  with fiona.drivers():\n",
      "CPLE_NotSupported in driver GeoJSON does not support creation option ENCODING\n",
      "CPLE_NotSupported in dataset /ncr2420/ANSU/6_Tasks/2110_ET/uk/AOI/merge.geojson does not support layer creation option ENCODING\n",
      "CPLE_NotSupported in dataset /ncr2420/ANSU/6_Tasks/2110_ET/uk/AOI/merge.geojson does not support layer creation option ENCODING\n",
      "CPLE_NotSupported in driver ESRI Shapefile does not support creation option ENCODING\n"
     ]
    },
    {
     "name": "stdout",
     "output_type": "stream",
     "text": [
      "Number of files: 8\n"
     ]
    },
    {
     "data": {
      "text/plain": [
       "[]"
      ]
     },
     "execution_count": 4,
     "metadata": {},
     "output_type": "execute_result"
    },
    {
     "data": {
      "image/png": "[encoded data removed]",
      "text/plain": [
       "<Figure size 648x936 with 1 Axes>"
      ]
     },
     "metadata": {
      "needs_background": "light"
     },
     "output_type": "display_data"
    }
   ],
   "source": [
    "# delete previous files in the aoi folder\n",
    "    \n",
    "if os.path.isfile(os.path.join(dir_AOI, f'merge.geojson')):\n",
    "    os.remove(os.path.join(dir_AOI, f'merge.geojson'))\n",
    "if os.path.isfile(os.path.join(dir_AOI, f'merge.shp')):\n",
    "    os.remove(os.path.join(dir_AOI, f'merge.shp'))    \n",
    "   \n",
    "\n",
    "files = glob.glob(f'{dir_AOI}/*.{format_aoi}')\n",
    "print('Number of files:',len(files))\n",
    "    \n",
    "# merge AOI files together for finding S2 tiles\n",
    "gdf_merge = pandas.concat([gpd.read_file(shp) for shp in files]).pipe(gpd.GeoDataFrame)\n",
    "gdf_merge.crs = \"EPSG:4326\"\n",
    "merge_file = gdf_merge.to_file(os.path.join(dir_AOI, f'merge.geojson'), driver='GeoJSON')\n",
    "merge_file = gdf_merge.to_file(os.path.join(dir_AOI, f'merge.shp'))\n",
    "\n",
    "ax_AOI = gdf_merge.plot(figsize = (9,13),facecolor = \"none\", lw = 2, edgecolor = 'red')\n",
    "ax_AOI.plot()"
   ]
  },
  {
   "cell_type": "markdown",
   "metadata": {},
   "source": [
    "# 1.1 Find the matching S2 tiles"
   ]
  },
  {
   "cell_type": "code",
   "execution_count": 5,
   "metadata": {},
   "outputs": [
    {
     "name": "stderr",
     "output_type": "stream",
     "text": [
      "/home/jovyan/.conda/envs/py3/lib/python3.6/site-packages/geopandas/base.py:29: UserWarning: GeoSeries crs mismatch: {'init': 'epsg:4326'} and EPSG:4326\n",
      "  other.crs))\n"
     ]
    },
    {
     "name": "stdout",
     "output_type": "stream",
     "text": [
      "['30UWD', '30UXE', '30UYD', '31UCU', '31UDU']\n"
     ]
    },
    {
     "data": {
      "image/png": "[encoded data removed]",
      "text/plain": [
       "<Figure size 792x1152 with 1 Axes>"
      ]
     },
     "metadata": {
      "needs_background": "light"
     },
     "output_type": "display_data"
    }
   ],
   "source": [
    "# intersection of S2 with AOI\n",
    "intersection = gpd.overlay(S2_Grid, gdf_merge, how='intersection')\n",
    "tiles_name = intersection['Name'].unique().tolist()\n",
    "print(tiles_name)\n",
    "\n",
    "# Plot of the S2 tiles and AOI\n",
    "S2_Tile_Selection = S2_Grid[S2_Grid['Name'].isin(tiles_name)]\n",
    "S2_Tile_Plot = S2_Tile_Selection.plot(figsize = (11,16), facecolor=\"none\", \n",
    "                                      edgecolor = 'blue', lw = 1, legend = True,\n",
    "                                      legend_kwds = {'bbox_to_anchor':(0, 1.05),'fontsize':10,})\n",
    "\n",
    "ax = gdf_merge.plot(ax = S2_Tile_Plot, facecolor = \"none\", lw = 2, edgecolor = 'red',legend = True, legend_kwds = {'bbox_to_anchor':(2, 1.05),'fontsize':15,})\n",
    "\n",
    "for i, geo in S2_Tile_Selection.centroid.iteritems():\n",
    "    ax.annotate(s=S2_Tile_Selection.Name[i], xy = [geo.x, geo.y], color=\"blue\",fontsize = 15,)"
   ]
  },
  {
   "cell_type": "markdown",
   "metadata": {},
   "source": [
    "# 1.2 Select S2 tiles "
   ]
  },
  {
   "cell_type": "code",
   "execution_count": 6,
   "metadata": {},
   "outputs": [],
   "source": [
    "#tiles_name = ['31UDU',\"30UXE\"]\n",
    "tiles_name = [\"30UWD\",\"31UCU\"]"
   ]
  },
  {
   "cell_type": "code",
   "execution_count": 7,
   "metadata": {},
   "outputs": [
    {
     "name": "stderr",
     "output_type": "stream",
     "text": [
      "CPLE_NotSupported in driver GeoJSON does not support creation option ENCODING\n",
      "CPLE_NotSupported in dataset /ncr2420/ANSU/6_Tasks/2110_ET/uk/30UWD.geojson does not support layer creation option ENCODING\n",
      "CPLE_NotSupported in dataset /ncr2420/ANSU/6_Tasks/2110_ET/uk/30UWD.geojson does not support layer creation option ENCODING\n",
      "CPLE_NotSupported in driver GeoJSON does not support creation option ENCODING\n",
      "CPLE_NotSupported in dataset /ncr2420/ANSU/6_Tasks/2110_ET/uk/31UCU.geojson does not support layer creation option ENCODING\n",
      "CPLE_NotSupported in dataset /ncr2420/ANSU/6_Tasks/2110_ET/uk/31UCU.geojson does not support layer creation option ENCODING\n",
      "CPLE_NotSupported in driver GeoJSON does not support creation option ENCODING\n",
      "CPLE_NotSupported in dataset /ncr2420/ANSU/6_Tasks/2110_ET/uk/uk.geojson does not support layer creation option ENCODING\n",
      "CPLE_NotSupported in dataset /ncr2420/ANSU/6_Tasks/2110_ET/uk/uk.geojson does not support layer creation option ENCODING\n"
     ]
    },
    {
     "name": "stdout",
     "output_type": "stream",
     "text": [
      "Saving the uk tile:/ncr2420/ANSU/6_Tasks/2110_ET/uk/30UWD.geojson  \n",
      "Saving the uk tile:/ncr2420/ANSU/6_Tasks/2110_ET/uk/31UCU.geojson  \n",
      "Number of files: 2\n"
     ]
    },
    {
     "data": {
      "image/png": "[encoded data removed]",
      "text/plain": [
       "<Figure size 792x1152 with 1 Axes>"
      ]
     },
     "metadata": {
      "needs_background": "light"
     },
     "output_type": "display_data"
    }
   ],
   "source": [
    "# delete previsou files in the folder\n",
    "file_json = glob.glob(f'{dir_work}/*.geojson')\n",
    "for f in file_json:\n",
    "    if os.path.isfile(f):\n",
    "        os.remove(f)\n",
    "\n",
    "# selec S2 tiles within the AOI        \n",
    "S2_Tile_Selection = S2_Grid[S2_Grid['Name'].isin(tiles_name)]\n",
    "\n",
    "# Plot of the S2 tiles and AOI\n",
    "S2_Tile_Plot = S2_Tile_Selection.plot(figsize = (11,16), facecolor=\"none\", \n",
    "                                      edgecolor = 'blue', lw = 1, legend = True,\n",
    "                                      legend_kwds = {'bbox_to_anchor':(0, 1.05),'fontsize':10,})\n",
    "ax = gdf_merge.plot(ax = S2_Tile_Plot, facecolor = \"none\", lw = 2, edgecolor = 'red',legend = True, legend_kwds = {'bbox_to_anchor':(2, 1.05),'fontsize':15,})\n",
    "for i, geo in S2_Tile_Selection.centroid.iteritems():\n",
    "    ax.annotate(s=S2_Tile_Selection.Name[i], xy = [geo.x, geo.y], color=\"blue\",fontsize = 15,)\n",
    "    \n",
    "# Save S2 tile as a geojson file\n",
    "for index, row in S2_Tile_Selection.iterrows():\n",
    "    name_s2 = row[\"Name\"]\n",
    "    polygon = S2_Tile_Selection.loc[S2_Tile_Selection['Name'] == name_s2]\n",
    "    out_name = os.path.join(dir_work, \"{0}.geojson\".format(name_s2))\n",
    "    print(\"Saving the {0} tile:{1}  \".format(name,out_name))\n",
    "    polygon.to_file(out_name, driver='GeoJSON')\n",
    "        \n",
    "        \n",
    "# find the all AOI to one shp\n",
    "files = glob.glob(f'{dir_work}/*.geojson')\n",
    "print('Number of files:',len(files))\n",
    "out_merge = os.path.join(dir_work, f\"{name}.geojson\")\n",
    "gdf_merge = pandas.concat([gpd.read_file(shp) for shp in files]).pipe(gpd.GeoDataFrame)\n",
    "gdf_merge.crs = \"EPSG:4326\"\n",
    "merge_file = gdf_merge.to_file(out_merge, driver='GeoJSON')\n",
    "\n"
   ]
  },
  {
   "cell_type": "markdown",
   "metadata": {},
   "source": [
    "# 1.3 S2 scenes\n"
   ]
  },
  {
   "cell_type": "code",
   "execution_count": 8,
   "metadata": {},
   "outputs": [
    {
     "name": "stdout",
     "output_type": "stream",
     "text": [
      "POLYGON((-3.0003 53.2496,-1.3551 53.2383,-1.3918 52.2516,-3.0003 52.2625,-3.0003 53.2496))\n",
      "[{\"date\": \"2021-10-24\", \"tile\": \"T30UWD\"}, {\"date\": \"2021-10-21\", \"tile\": \"T30UWD\"}, {\"date\": \"2021-10-16\", \"tile\": \"T30UWD\"}, {\"date\": \"2021-10-13\", \"tile\": \"T30UWD\"}, {\"date\": \"2021-10-11\", \"tile\": \"T30UWD\"}, {\"date\": \"2021-10-06\", \"tile\": \"T30UWD\"}, {\"date\": \"2021-10-03\", \"tile\": \"T30UWD\"}, {\"date\": \"2021-10-01\", \"tile\": \"T30UWD\"}, {\"date\": \"2021-09-29\", \"tile\": \"T30UWD\"}, {\"date\": \"2021-09-28\", \"tile\": \"T30UWD\"}, {\"date\": \"2021-09-26\", \"tile\": \"T30UWD\"}, {\"date\": \"2021-09-24\", \"tile\": \"T30UWD\"}, {\"date\": \"2021-09-18\", \"tile\": \"T30UWD\"}, {\"date\": \"2021-09-16\", \"tile\": \"T30UWD\"}, {\"date\": \"2021-09-13\", \"tile\": \"T30UWD\"}, {\"date\": \"2021-09-09\", \"tile\": \"T30UWD\"}, {\"date\": \"2021-09-08\", \"tile\": \"T30UWD\"}, {\"date\": \"2021-09-06\", \"tile\": \"T30UWD\"}, {\"date\": \"2021-09-04\", \"tile\": \"T30UWD\"}, {\"date\": \"2021-08-29\", \"tile\": \"T30UWD\"}, {\"date\": \"2021-08-25\", \"tile\": \"T30UWD\"}, {\"date\": \"2021-08-22\", \"tile\": \"T30UWD\"}, {\"date\": \"2021-08-15\", \"tile\": \"T30UWD\"}, {\"date\": \"2021-08-10\", \"tile\": \"T30UWD\"}, {\"date\": \"2021-08-09\", \"tile\": \"T30UWD\"}, {\"date\": \"2021-08-04\", \"tile\": \"T30UWD\"}, {\"date\": \"2021-07-26\", \"tile\": \"T30UWD\"}, {\"date\": \"2021-07-23\", \"tile\": \"T30UWD\"}, {\"date\": \"2021-07-21\", \"tile\": \"T30UWD\"}, {\"date\": \"2021-07-20\", \"tile\": \"T30UWD\"}, {\"date\": \"2021-07-18\", \"tile\": \"T30UWD\"}, {\"date\": \"2021-07-16\", \"tile\": \"T30UWD\"}, {\"date\": \"2021-07-15\", \"tile\": \"T30UWD\"}, {\"date\": \"2021-07-13\", \"tile\": \"T30UWD\"}, {\"date\": \"2021-07-10\", \"tile\": \"T30UWD\"}, {\"date\": \"2021-07-08\", \"tile\": \"T30UWD\"}, {\"date\": \"2021-07-06\", \"tile\": \"T30UWD\"}, {\"date\": \"2021-06-26\", \"tile\": \"T30UWD\"}, {\"date\": \"2021-06-23\", \"tile\": \"T30UWD\"}, {\"date\": \"2021-06-16\", \"tile\": \"T30UWD\"}, {\"date\": \"2021-06-15\", \"tile\": \"T30UWD\"}, {\"date\": \"2021-06-13\", \"tile\": \"T30UWD\"}, {\"date\": \"2021-06-10\", \"tile\": \"T30UWD\"}, {\"date\": \"2021-06-08\", \"tile\": \"T30UWD\"}, {\"date\": \"2021-06-05\", \"tile\": \"T30UWD\"}, {\"date\": \"2021-06-03\", \"tile\": \"T30UWD\"}, {\"date\": \"2021-05-31\", \"tile\": \"T30UWD\"}, {\"date\": \"2021-05-27\", \"tile\": \"T30UWD\"}, {\"date\": \"2021-05-19\", \"tile\": \"T30UWD\"}, {\"date\": \"2021-05-17\", \"tile\": \"T30UWD\"}, {\"date\": \"2021-05-16\", \"tile\": \"T30UWD\"}, {\"date\": \"2021-05-12\", \"tile\": \"T30UWD\"}, {\"date\": \"2021-05-09\", \"tile\": \"T30UWD\"}, {\"date\": \"2021-05-07\", \"tile\": \"T30UWD\"}, {\"date\": \"2021-05-06\", \"tile\": \"T30UWD\"}, {\"date\": \"2021-05-04\", \"tile\": \"T30UWD\"}, {\"date\": \"2021-05-01\", \"tile\": \"T30UWD\"}, {\"date\": \"2021-10-28\", \"tile\": \"T31UCU\"}, {\"date\": \"2021-10-25\", \"tile\": \"T31UCU\"}, {\"date\": \"2021-10-20\", \"tile\": \"T31UCU\"}, {\"date\": \"2021-10-15\", \"tile\": \"T31UCU\"}, {\"date\": \"2021-10-13\", \"tile\": \"T31UCU\"}, {\"date\": \"2021-10-10\", \"tile\": \"T31UCU\"}, {\"date\": \"2021-10-08\", \"tile\": \"T31UCU\"}, {\"date\": \"2021-10-05\", \"tile\": \"T31UCU\"}, {\"date\": \"2021-10-03\", \"tile\": \"T31UCU\"}, {\"date\": \"2021-09-28\", \"tile\": \"T31UCU\"}, {\"date\": \"2021-09-25\", \"tile\": \"T31UCU\"}, {\"date\": \"2021-09-20\", \"tile\": \"T31UCU\"}, {\"date\": \"2021-09-18\", \"tile\": \"T31UCU\"}, {\"date\": \"2021-09-15\", \"tile\": \"T31UCU\"}, {\"date\": \"2021-09-10\", \"tile\": \"T31UCU\"}, {\"date\": \"2021-09-08\", \"tile\": \"T31UCU\"}, {\"date\": \"2021-09-05\", \"tile\": \"T31UCU\"}, {\"date\": \"2021-09-03\", \"tile\": \"T31UCU\"}, {\"date\": \"2021-08-24\", \"tile\": \"T31UCU\"}, {\"date\": \"2021-08-19\", \"tile\": \"T31UCU\"}, {\"date\": \"2021-08-14\", \"tile\": \"T31UCU\"}, {\"date\": \"2021-08-11\", \"tile\": \"T31UCU\"}, {\"date\": \"2021-08-09\", \"tile\": \"T31UCU\"}, {\"date\": \"2021-08-06\", \"tile\": \"T31UCU\"}, {\"date\": \"2021-08-04\", \"tile\": \"T31UCU\"}, {\"date\": \"2021-08-01\", \"tile\": \"T31UCU\"}, {\"date\": \"2021-07-30\", \"tile\": \"T31UCU\"}, {\"date\": \"2021-07-25\", \"tile\": \"T31UCU\"}, {\"date\": \"2021-07-22\", \"tile\": \"T31UCU\"}, {\"date\": \"2021-07-20\", \"tile\": \"T31UCU\"}, {\"date\": \"2021-07-17\", \"tile\": \"T31UCU\"}, {\"date\": \"2021-07-07\", \"tile\": \"T31UCU\"}, {\"date\": \"2021-07-05\", \"tile\": \"T31UCU\"}, {\"date\": \"2021-07-02\", \"tile\": \"T31UCU\"}, {\"date\": \"2021-06-27\", \"tile\": \"T31UCU\"}, {\"date\": \"2021-06-22\", \"tile\": \"T31UCU\"}, {\"date\": \"2021-06-15\", \"tile\": \"T31UCU\"}, {\"date\": \"2021-06-12\", \"tile\": \"T31UCU\"}, {\"date\": \"2021-06-10\", \"tile\": \"T31UCU\"}, {\"date\": \"2021-06-07\", \"tile\": \"T31UCU\"}, {\"date\": \"2021-06-05\", \"tile\": \"T31UCU\"}, {\"date\": \"2021-06-02\", \"tile\": \"T31UCU\"}, {\"date\": \"2021-05-31\", \"tile\": \"T31UCU\"}, {\"date\": \"2021-05-18\", \"tile\": \"T31UCU\"}, {\"date\": \"2021-05-16\", \"tile\": \"T31UCU\"}, {\"date\": \"2021-05-13\", \"tile\": \"T31UCU\"}, {\"date\": \"2021-05-11\", \"tile\": \"T31UCU\"}, {\"date\": \"2021-05-06\", \"tile\": \"T31UCU\"}, {\"date\": \"2021-05-01\", \"tile\": \"T31UCU\"}]\n"
     ]
    }
   ],
   "source": [
    "\n",
    "#api_url='https://apihub.copernicus.eu/dhus'\n",
    "api_url='https://scihub.copernicus.eu/dhus'\n",
    "\n",
    "area = geojson_to_wkt(read_geojson(out_merge))\n",
    "\n",
    "print(area)\n",
    "output_file = os.path.join(dir_work, f\"{name}_scenes.txt\")\n",
    "\n",
    "query_kwargs = {\n",
    "    \"platformname\": \"Sentinel-2\",\n",
    "    \"producttype\": \"S2MSI1C\",\n",
    "    \"cloudcoverpercentage\": (0, 90),\n",
    "    \"date\": (date_start, date_end),\n",
    "    \"tileid\": area}\n",
    "\n",
    "product = dict()\n",
    "scenes = []\n",
    "\n",
    "for tile in tiles_name:\n",
    "    kw = query_kwargs.copy()\n",
    "    kw[\"tileid\"] = tile\n",
    "    api = SentinelAPI(sentinel_user, sentinel_pw,api_url)\n",
    "    api_product = api.query(**kw)\n",
    "    dates = []\n",
    "   \n",
    "    for key, value in api_product.items():\n",
    "        dates.append(value['datatakesensingstart'])\n",
    "    dates = sorted(dates)[::-1]\n",
    "    \n",
    "    for d in dates:\n",
    "        scenes.append({\"date\":f'{d:%Y-%m-%d}', 'tile':f'T{tile}'})\n",
    "\n",
    "print(json.dumps(scenes))\n",
    "with open(output_file, \"w\") as fp:\n",
    "    fp.write(json.dumps(scenes, indent=1))"
   ]
  },
  {
   "cell_type": "markdown",
   "metadata": {},
   "source": [
    "# 2. Copernicus DEM"
   ]
  },
  {
   "cell_type": "code",
   "execution_count": 9,
   "metadata": {},
   "outputs": [
    {
     "name": "stdout",
     "output_type": "stream",
     "text": [
      "Number of downloads: 12\n"
     ]
    }
   ],
   "source": [
    "#create folder with the AOI name\n",
    "dem_dir = os.path.join(dir_work,\"DEM\")\n",
    "\n",
    "if not os.path.exists(dem_dir):\n",
    "    os.makedirs(dem_dir)   \n",
    "\n",
    "dem_aoi = f\"{dir_work}/{name}.geojson\"\n",
    "\n",
    "merge_gpd = gpd.read_file(dem_aoi)\n",
    "bounds_AOI = merge_gpd.total_bounds\n",
    "geometry = box(*bounds_AOI) \n",
    "\n",
    "results_update = []\n",
    "\n",
    "results = query.query('CopDem', geometry =geometry)\n",
    "for result in results.values():\n",
    "    productType = result[\"properties\"][\"productType\"]\n",
    "    if productType == \"SAR_DGE_30_PUBLIC\":\n",
    "        title = result[\"properties\"][\"title\"]\n",
    "        ids = result[\"id\"]\n",
    "        download_title= os.path.join(dem_dir,title)\n",
    "        download_id = os.path.join(dem_dir,f\"{ids}.zip\")\n",
    "        if not os.path.exists(download_id):\n",
    "            results_update.append(ids)  \n",
    "\n",
    "print(\"Number of downloads:\", len(results_update))\n",
    "\n",
    "paths = download.download_list(list(results_update), creodias_user, creodias_pw, dem_dir,threads=10, show_progress=False)\n",
    "\n",
    "DEM_tif = glob.glob(os.path.join(dem_dir,f\"*.zip\"))\n",
    "\n",
    "for path in DEM_tif:\n",
    "    with zipfile.ZipFile(path, \"r\") as z:\n",
    "        z.extractall(dem_dir)\n",
    "    os.remove(path)\n",
    "    "
   ]
  },
  {
   "cell_type": "code",
   "execution_count": 10,
   "metadata": {},
   "outputs": [
    {
     "name": "stdout",
     "output_type": "stream",
     "text": [
      "Number of downloads: 12\n"
     ]
    }
   ],
   "source": [
    "# Merge selected tiles\n",
    "DEM_tif = glob.glob(os.path.join(f\"{dem_dir}/DEM1*/Copernicus*/DEM/\",\"*.tif\"))\n",
    "\n",
    "src_files_to_mosaic = []\n",
    "\n",
    "for fp in DEM_tif:\n",
    "    src = rasterio.open(fp)\n",
    "    src_files_to_mosaic.append(src)\n",
    "    \n",
    "print(\"Number of downloads:\", len(src_files_to_mosaic))  \n",
    "\n",
    "mosaic, out_trans = merge(src_files_to_mosaic)    \n",
    "\n",
    "out_meta = src.meta.copy()\n",
    "out_meta.update({\"driver\": \"GTiff\",\n",
    "    \"height\": mosaic.shape[1],\"width\": mosaic.shape[2],\"transform\": out_trans} )\n",
    "with rasterio.open(f\"{dir_work}/DEM.tif\", \"w\", **out_meta) as dest:\n",
    "    dest.write(mosaic)"
   ]
  },
  {
   "cell_type": "markdown",
   "metadata": {},
   "source": [
    "# 3. Land Cover - World Cover"
   ]
  },
  {
   "cell_type": "code",
   "execution_count": 11,
   "metadata": {},
   "outputs": [
    {
     "name": "stdout",
     "output_type": "stream",
     "text": [
      "30UWD - ESA_WorldCover_10m_2020_v100_N51W003 file NOT exists\n",
      "30UWD - ESA_WorldCover_10m_2020_v100_N51W006 exists\n",
      "31UCU - ESA_WorldCover_10m_2020_v100_N51E000 file NOT exists\n"
     ]
    }
   ],
   "source": [
    "# for tiles \n",
    "\n",
    "tileList = []\n",
    "\n",
    "for tile in tiles_name:\n",
    "    merge_gpd = gpd.read_file(f\"{dir_work}/{tile}.geojson\")\n",
    "    bounds_AOI = merge_gpd.total_bounds\n",
    "    geometry = box(*bounds_AOI)      \n",
    "    # create catalogue object and authenticate \n",
    "    catalogue = Catalogue().authenticate() \n",
    "    catalogue = catalogue.authenticate_non_interactive(name_wc, password_wc) \n",
    "    # search for products in the WorldCover collection \n",
    "    products = catalogue.get_products(\"urn:eop:VITO:ESA_WorldCover_10m_2020_V1\", geometry=geometry) \n",
    "    for c in products:        \n",
    "        title = c.properties['title']\n",
    "        file_dir = f\"{dir_work}/WorldCover/{title}\"\n",
    "        if not os.path.isdir(file_dir):\n",
    "            print(f\"{tile} - {title} file NOT exists\")\n",
    "            products = catalogue.get_products(\"urn:eop:VITO:ESA_WorldCover_10m_2020_V1\", geometry=geometry)\n",
    "            catalogue.download_products(products, os.path.join(dir_work, f\"WorldCover\"), force=True)\n",
    "        else:\n",
    "            print(f\"{tile} - {title} exists\")\n",
    "            \n",
    "            \n",
    "LC_tif = glob.glob(os.path.join(f\"{dir_work}/WorldCover/*/\",\"*Map.tif\"))\n",
    "src_files_to_mosaic = []\n",
    "\n",
    "for fp in LC_tif:\n",
    "    src = rasterio.open(fp)\n",
    "    src_files_to_mosaic.append(src)   \n",
    "\n",
    "mosaic, out_trans = merge(src_files_to_mosaic)\n",
    "\n",
    "out_meta = src.meta.copy()\n",
    "out_meta.update({\"driver\": \"GTiff\",\n",
    "    \"height\": mosaic.shape[1],\n",
    "    \"width\": mosaic.shape[2],\n",
    "    \"transform\": out_trans} )\n",
    "out_WorldCover  = f\"{dir_work}/WorldCover.tif\"\n",
    "with rasterio.open(out_WorldCover, \"w\", **out_meta) as dest:\n",
    "    dest.write(mosaic)\n",
    "         "
   ]
  },
  {
   "cell_type": "markdown",
   "metadata": {},
   "source": [
    "# 4. Reclassify Land Cover - World Cover"
   ]
  },
  {
   "cell_type": "code",
   "execution_count": 12,
   "metadata": {},
   "outputs": [
    {
     "name": "stderr",
     "output_type": "stream",
     "text": [
      "CPLE_NotSupported in driver GeoJSON does not support creation option ENCODING\n",
      "CPLE_NotSupported in dataset /ncr2420/ANSU/6_Tasks/2110_ET/uk/MS_Bounds/Field Bounds/merge_polygons.geojson does not support layer creation option ENCODING\n",
      "CPLE_NotSupported in dataset /ncr2420/ANSU/6_Tasks/2110_ET/uk/MS_Bounds/Field Bounds/merge_polygons.geojson does not support layer creation option ENCODING\n",
      "CPLE_NotSupported in driver ESRI Shapefile does not support creation option ENCODING\n"
     ]
    },
    {
     "name": "stdout",
     "output_type": "stream",
     "text": [
      "Number of files: 8\n"
     ]
    },
    {
     "data": {
      "text/plain": [
       "[]"
      ]
     },
     "execution_count": 12,
     "metadata": {},
     "output_type": "execute_result"
    },
    {
     "data": {
      "image/png": "[encoded data removed]",
      "text/plain": [
       "<Figure size 648x936 with 1 Axes>"
      ]
     },
     "metadata": {
      "needs_background": "light"
     },
     "output_type": "display_data"
    }
   ],
   "source": [
    "# get all polygons together and merge them for classification\n",
    "\n",
    "if os.path.isfile(os.path.join(dir_polygons, f'merge_polygons.geojson')):\n",
    "    os.remove(os.path.join(dir_polygons, f'merge_polygons.geojson'))\n",
    "if os.path.isfile(os.path.join(dir_polygons, f'merge_polygons.shp')):\n",
    "    os.remove(os.path.join(dir_polygons, f'merge_polygons.shp'))   \n",
    "    \n",
    "files = glob.glob(f'{dir_polygons}/*.{format_aoi}')\n",
    "print('Number of files:',len(files))\n",
    "\n",
    "# merge AOI files together for finding S2 tiles\n",
    "gdf_merge = pandas.concat([gpd.read_file(shp) for shp in files]).pipe(gpd.GeoDataFrame)\n",
    "gdf_merge.crs = \"EPSG:4326\"\n",
    "merge_file = gdf_merge.to_file(os.path.join(dir_polygons, f'merge_polygons.geojson'), driver='GeoJSON')\n",
    "merge_file = gdf_merge.to_file(os.path.join(dir_polygons, f'merge_polygons.shp'))\n",
    "\n",
    "ax_AOI = gdf_merge.plot(figsize = (9,13),facecolor = \"none\", lw = 2, edgecolor = 'red')\n",
    "ax_AOI.plot()"
   ]
  },
  {
   "cell_type": "code",
   "execution_count": 13,
   "metadata": {},
   "outputs": [],
   "source": [
    "def rasterize_vector(gdf, profile, **kwargs):\n",
    "    gdf = gdf.to_crs(profile['crs'])\n",
    "    geoms = [g.__geo_interface__ for g in gdf.geometry.values]\n",
    "    mask = rasterio.features.rasterize(\n",
    "            geoms,\n",
    "            out_shape=(profile['width'],profile['height']),\n",
    "            transform=profile['transform'], fill= 0,\n",
    "            **kwargs)\n",
    "    return mask\n",
    "\n",
    "def mask_raster_with_vector(rasterfile, vectorfile, path ):\n",
    "    with rasterio.open(rasterfile) as src_ras:\n",
    "        data_down = src_ras.read(1)\n",
    "        profile = src_ras.profile.copy()\n",
    "            \n",
    "    gdf = gpd.read_file(vectorfile)\n",
    "   \n",
    "    mask = rasterize_vector(gdf, profile)\n",
    "    out_file = str(path + \"rasterize.tif\")\n",
    "    with rasterio.open(out_file, \"w\", **profile) as dst:\n",
    "        dst.write(mask.astype(rasterio.uint8), 1)\n",
    "    \n",
    "    # Create classification\n",
    "    with rasterio.open(out_file) as src_top:\n",
    "        data_top = src_top.read(1)\n",
    "        height, width = data_top.shape  \n",
    "        profile = src_top.profile\n",
    "        data = np.where(data_top==1, value_class, data_down)\n",
    "    \n",
    "    out_name = os.path.join(path,f'WorldCover_{name}.tif')\n",
    "      \n",
    "    with rasterio.open(out_name,'w', **profile) as dst_final:\n",
    "        print(data)\n",
    "        dst_final.write(data.astype(rasterio.uint8), 1)\n",
    "    \n",
    "    return out_name\n"
   ]
  },
  {
   "cell_type": "code",
   "execution_count": 14,
   "metadata": {},
   "outputs": [
    {
     "ename": "AttributeError",
     "evalue": "'NoneType' object has no attribute 'startswith'",
     "output_type": "error",
     "traceback": [
      "\u001b[0;31m---------------------------------------------------------------------------\u001b[0m",
      "\u001b[0;31mAttributeError\u001b[0m                            Traceback (most recent call last)",
      "\u001b[0;32m<ipython-input-14-abc5ebc4a5f6>\u001b[0m in \u001b[0;36m<module>\u001b[0;34m\u001b[0m\n\u001b[0;32m----> 1\u001b[0;31m \u001b[0mmask_raster_with_vector\u001b[0m\u001b[0;34m(\u001b[0m\u001b[0mout_WorldCover\u001b[0m\u001b[0;34m,\u001b[0m \u001b[0mmerge_file\u001b[0m\u001b[0;34m,\u001b[0m \u001b[0mdir_work\u001b[0m\u001b[0;34m)\u001b[0m\u001b[0;34m\u001b[0m\u001b[0m\n\u001b[0m",
      "\u001b[0;32m<ipython-input-13-13a0533a88a8>\u001b[0m in \u001b[0;36mmask_raster_with_vector\u001b[0;34m(rasterfile, vectorfile, path)\u001b[0m\n\u001b[1;32m     14\u001b[0m         \u001b[0mprofile\u001b[0m \u001b[0;34m=\u001b[0m \u001b[0msrc_ras\u001b[0m\u001b[0;34m.\u001b[0m\u001b[0mprofile\u001b[0m\u001b[0;34m.\u001b[0m\u001b[0mcopy\u001b[0m\u001b[0;34m(\u001b[0m\u001b[0;34m)\u001b[0m\u001b[0;34m\u001b[0m\u001b[0m\n\u001b[1;32m     15\u001b[0m \u001b[0;34m\u001b[0m\u001b[0m\n\u001b[0;32m---> 16\u001b[0;31m     \u001b[0mgdf\u001b[0m \u001b[0;34m=\u001b[0m \u001b[0mgpd\u001b[0m\u001b[0;34m.\u001b[0m\u001b[0mread_file\u001b[0m\u001b[0;34m(\u001b[0m\u001b[0mvectorfile\u001b[0m\u001b[0;34m)\u001b[0m\u001b[0;34m\u001b[0m\u001b[0m\n\u001b[0m\u001b[1;32m     17\u001b[0m \u001b[0;34m\u001b[0m\u001b[0m\n\u001b[1;32m     18\u001b[0m     \u001b[0mmask\u001b[0m \u001b[0;34m=\u001b[0m \u001b[0mrasterize_vector\u001b[0m\u001b[0;34m(\u001b[0m\u001b[0mgdf\u001b[0m\u001b[0;34m,\u001b[0m \u001b[0mprofile\u001b[0m\u001b[0;34m)\u001b[0m\u001b[0;34m\u001b[0m\u001b[0m\n",
      "\u001b[0;32m~/.conda/envs/py3/lib/python3.6/site-packages/geopandas/io/file.py\u001b[0m in \u001b[0;36mread_file\u001b[0;34m(filename, bbox, **kwargs)\u001b[0m\n\u001b[1;32m     63\u001b[0m         \u001b[0mreader\u001b[0m \u001b[0;34m=\u001b[0m \u001b[0mfiona\u001b[0m\u001b[0;34m.\u001b[0m\u001b[0mopen\u001b[0m\u001b[0;34m\u001b[0m\u001b[0m\n\u001b[1;32m     64\u001b[0m \u001b[0;34m\u001b[0m\u001b[0m\n\u001b[0;32m---> 65\u001b[0;31m     \u001b[0;32mwith\u001b[0m \u001b[0mreader\u001b[0m\u001b[0;34m(\u001b[0m\u001b[0mpath_or_bytes\u001b[0m\u001b[0;34m,\u001b[0m \u001b[0;34m**\u001b[0m\u001b[0mkwargs\u001b[0m\u001b[0;34m)\u001b[0m \u001b[0;32mas\u001b[0m \u001b[0mfeatures\u001b[0m\u001b[0;34m:\u001b[0m\u001b[0;34m\u001b[0m\u001b[0m\n\u001b[0m\u001b[1;32m     66\u001b[0m         \u001b[0mcrs\u001b[0m \u001b[0;34m=\u001b[0m \u001b[0mfeatures\u001b[0m\u001b[0;34m.\u001b[0m\u001b[0mcrs\u001b[0m\u001b[0;34m\u001b[0m\u001b[0m\n\u001b[1;32m     67\u001b[0m         \u001b[0;32mif\u001b[0m \u001b[0mbbox\u001b[0m \u001b[0;32mis\u001b[0m \u001b[0;32mnot\u001b[0m \u001b[0;32mNone\u001b[0m\u001b[0;34m:\u001b[0m\u001b[0;34m\u001b[0m\u001b[0m\n",
      "\u001b[0;32m~/.conda/envs/py3/lib/python3.6/site-packages/fiona/env.py\u001b[0m in \u001b[0;36mwrapper\u001b[0;34m(*args, **kwds)\u001b[0m\n\u001b[1;32m    362\u001b[0m         \u001b[0;32mwith\u001b[0m \u001b[0menv_ctor\u001b[0m\u001b[0;34m(\u001b[0m\u001b[0msession\u001b[0m\u001b[0;34m=\u001b[0m\u001b[0msession\u001b[0m\u001b[0;34m)\u001b[0m\u001b[0;34m:\u001b[0m\u001b[0;34m\u001b[0m\u001b[0m\n\u001b[1;32m    363\u001b[0m             \u001b[0mlog\u001b[0m\u001b[0;34m.\u001b[0m\u001b[0mdebug\u001b[0m\u001b[0;34m(\u001b[0m\u001b[0;34m\"Credentialized: {!r}\"\u001b[0m\u001b[0;34m.\u001b[0m\u001b[0mformat\u001b[0m\u001b[0;34m(\u001b[0m\u001b[0mgetenv\u001b[0m\u001b[0;34m(\u001b[0m\u001b[0;34m)\u001b[0m\u001b[0;34m)\u001b[0m\u001b[0;34m)\u001b[0m\u001b[0;34m\u001b[0m\u001b[0m\n\u001b[0;32m--> 364\u001b[0;31m             \u001b[0;32mreturn\u001b[0m \u001b[0mf\u001b[0m\u001b[0;34m(\u001b[0m\u001b[0;34m*\u001b[0m\u001b[0margs\u001b[0m\u001b[0;34m,\u001b[0m \u001b[0;34m**\u001b[0m\u001b[0mkwds\u001b[0m\u001b[0;34m)\u001b[0m\u001b[0;34m\u001b[0m\u001b[0m\n\u001b[0m\u001b[1;32m    365\u001b[0m \u001b[0;34m\u001b[0m\u001b[0m\n\u001b[1;32m    366\u001b[0m     \u001b[0;32mreturn\u001b[0m \u001b[0mwrapper\u001b[0m\u001b[0;34m\u001b[0m\u001b[0m\n",
      "\u001b[0;32m~/.conda/envs/py3/lib/python3.6/site-packages/fiona/__init__.py\u001b[0m in \u001b[0;36mopen\u001b[0;34m(fp, mode, driver, schema, crs, encoding, layer, vfs, enabled_drivers, crs_wkt, **kwargs)\u001b[0m\n\u001b[1;32m    246\u001b[0m             \u001b[0mpath\u001b[0m \u001b[0;34m=\u001b[0m \u001b[0mParsedPath\u001b[0m\u001b[0;34m(\u001b[0m\u001b[0mpath\u001b[0m\u001b[0;34m,\u001b[0m \u001b[0marchive\u001b[0m\u001b[0;34m,\u001b[0m \u001b[0mscheme\u001b[0m\u001b[0;34m)\u001b[0m\u001b[0;34m\u001b[0m\u001b[0m\n\u001b[1;32m    247\u001b[0m         \u001b[0;32melse\u001b[0m\u001b[0;34m:\u001b[0m\u001b[0;34m\u001b[0m\u001b[0m\n\u001b[0;32m--> 248\u001b[0;31m             \u001b[0mpath\u001b[0m \u001b[0;34m=\u001b[0m \u001b[0mparse_path\u001b[0m\u001b[0;34m(\u001b[0m\u001b[0mfp\u001b[0m\u001b[0;34m)\u001b[0m\u001b[0;34m\u001b[0m\u001b[0m\n\u001b[0m\u001b[1;32m    249\u001b[0m \u001b[0;34m\u001b[0m\u001b[0m\n\u001b[1;32m    250\u001b[0m         \u001b[0;32mif\u001b[0m \u001b[0mmode\u001b[0m \u001b[0;32min\u001b[0m \u001b[0;34m(\u001b[0m\u001b[0;34m'a'\u001b[0m\u001b[0;34m,\u001b[0m \u001b[0;34m'r'\u001b[0m\u001b[0;34m)\u001b[0m\u001b[0;34m:\u001b[0m\u001b[0;34m\u001b[0m\u001b[0m\n",
      "\u001b[0;32m~/.conda/envs/py3/lib/python3.6/site-packages/fiona/path.py\u001b[0m in \u001b[0;36mparse_path\u001b[0;34m(path)\u001b[0m\n\u001b[1;32m    129\u001b[0m         \u001b[0;32mreturn\u001b[0m \u001b[0mUnparsedPath\u001b[0m\u001b[0;34m(\u001b[0m\u001b[0mpath\u001b[0m\u001b[0;34m)\u001b[0m\u001b[0;34m\u001b[0m\u001b[0m\n\u001b[1;32m    130\u001b[0m \u001b[0;34m\u001b[0m\u001b[0m\n\u001b[0;32m--> 131\u001b[0;31m     \u001b[0;32melif\u001b[0m \u001b[0mpath\u001b[0m\u001b[0;34m.\u001b[0m\u001b[0mstartswith\u001b[0m\u001b[0;34m(\u001b[0m\u001b[0;34m'/vsi'\u001b[0m\u001b[0;34m)\u001b[0m\u001b[0;34m:\u001b[0m\u001b[0;34m\u001b[0m\u001b[0m\n\u001b[0m\u001b[1;32m    132\u001b[0m         \u001b[0;32mreturn\u001b[0m \u001b[0mUnparsedPath\u001b[0m\u001b[0;34m(\u001b[0m\u001b[0mpath\u001b[0m\u001b[0;34m)\u001b[0m\u001b[0;34m\u001b[0m\u001b[0m\n\u001b[1;32m    133\u001b[0m \u001b[0;34m\u001b[0m\u001b[0m\n",
      "\u001b[0;31mAttributeError\u001b[0m: 'NoneType' object has no attribute 'startswith'"
     ]
    }
   ],
   "source": [
    "mask_raster_with_vector(out_WorldCover, merge_file, dir_work)"
   ]
  },
  {
   "cell_type": "code",
   "execution_count": null,
   "metadata": {},
   "outputs": [],
   "source": [
    "def raster_file_singleband(path, rasterfile,data):\n",
    "    with rasterio.open(rasterfile) as src:\n",
    "        profile = src.profile.copy()\n",
    "        print(profile)\n",
    "    profile.update(driver=\"GTiff\")\n",
    "    with rasterio.open(str(path+\"test_10.tif\"), \"w\", **profile) as dst:\n",
    "        dst.write(data.astype(rasterio.uint8), 1)\n",
    "    return str(path+\"test_10.tif\")"
   ]
  },
  {
   "cell_type": "code",
   "execution_count": null,
   "metadata": {},
   "outputs": [],
   "source": [
    "raster_file_singleband(out_fn,rst_fn,rasteer)"
   ]
  },
  {
   "cell_type": "code",
   "execution_count": null,
   "metadata": {},
   "outputs": [],
   "source": [
    "raster_new= rasterio.open(out_fn+\"test_10.tif\")\n",
    "show(raster_new)\n",
    "raster_new.profile"
   ]
  },
  {
   "cell_type": "code",
   "execution_count": null,
   "metadata": {},
   "outputs": [],
   "source": []
  },
  {
   "cell_type": "code",
   "execution_count": null,
   "metadata": {},
   "outputs": [],
   "source": []
  },
  {
   "cell_type": "code",
   "execution_count": null,
   "metadata": {},
   "outputs": [],
   "source": [
    "# open and update the metadata from the input raster for the output\n",
    "rst = rasterio.open(rst_fn)\n",
    "meta = rst.meta.copy()\n",
    "meta.update(compress='lzw')\n",
    "\n",
    "rst.read().shape\n",
    "\n"
   ]
  },
  {
   "cell_type": "code",
   "execution_count": null,
   "metadata": {},
   "outputs": [],
   "source": [
    "# Open the file with GeoPANDAS read_file\n",
    "\n",
    "polygons = gpd.read_file(shp_fn)\n",
    "polygons.plot()\n",
    "polygons.crs\n"
   ]
  },
  {
   "cell_type": "code",
   "execution_count": null,
   "metadata": {},
   "outputs": [],
   "source": [
    "polygons_rasCRS = polygons.to_crs({'init': 'epsg:32631'})\n",
    "polygons_rasCRS.crs\n",
    "polygons_rasCRS.plot()"
   ]
  },
  {
   "cell_type": "code",
   "execution_count": null,
   "metadata": {},
   "outputs": [],
   "source": [
    "#counties_pro= counties.set_crs(epsg=3857)\n",
    "#counties_ proj = counties.to_crs('epsg:32631'"
   ]
  },
  {
   "cell_type": "code",
   "execution_count": null,
   "metadata": {},
   "outputs": [],
   "source": [
    "polygons_rasCRS"
   ]
  },
  {
   "cell_type": "code",
   "execution_count": null,
   "metadata": {},
   "outputs": [],
   "source": [
    "polygons_rasCRS[\"values_pix\"] = polygons_rasCRS.value.astype(int)\n",
    "polygons_rasCRS"
   ]
  },
  {
   "cell_type": "code",
   "execution_count": null,
   "metadata": {},
   "outputs": [],
   "source": [
    "polygons_rasCRS['values_pix'].head()"
   ]
  },
  {
   "cell_type": "code",
   "execution_count": null,
   "metadata": {},
   "outputs": [],
   "source": []
  },
  {
   "cell_type": "code",
   "execution_count": null,
   "metadata": {},
   "outputs": [],
   "source": [
    "with rasterio.open(out_fn, 'w+', **meta) as out:\n",
    "    out_arr = out.read(1)\n",
    "\n",
    "    # this is where we create a generator of geom, value pairs to use in rasterizing\n",
    "    shapes = ((geom,value) for geom, value in zip(polygons_rasCRS.geometry, polygons_rasCRS.values_pix))\n",
    "\n",
    "    burned = features.rasterize(shapes=shapes, fill=0, out=out_arr, transform=out.transform)\n",
    "    out.write_band(1, burned)"
   ]
  },
  {
   "cell_type": "markdown",
   "metadata": {},
   "source": [
    "# 5. Copy constant files"
   ]
  },
  {
   "cell_type": "code",
   "execution_count": null,
   "metadata": {},
   "outputs": [],
   "source": [
    "file_ads = \".adsapirc\"\n",
    "file_cds = \".cdsapirc\"\n",
    "file_flux = \"fluxes_config_template\"\n",
    "file_Sen2Cor = \"Sen2Cor_2.9.0_L2A_GIPP_template\"\n",
    "\n",
    "copyfile(f'/ncr2420/ANSU/6_Tasks/2110_ET/_Template/{file_ads}',os.path.join(dir_work, f\"{file_ads}\"))\n",
    "copyfile(f'/ncr2420/ANSU/6_Tasks/2110_ET/_Template/{file_cds}',os.path.join(dir_work, f\"{file_cds}\"))\n",
    "copyfile(f'/ncr2420/ANSU/6_Tasks/2110_ET/_Template/{file_cds}',os.path.join(dir_work, f\"{file_flux}.txt\"))\n",
    "copyfile(f'/ncr2420/ANSU/6_Tasks/2110_ET/_Template/{file_cds}',os.path.join(dir_work, f\"{file_Sen2Cor}.xml\"))"
   ]
  },
  {
   "cell_type": "code",
   "execution_count": null,
   "metadata": {},
   "outputs": [],
   "source": []
  },
  {
   "cell_type": "code",
   "execution_count": null,
   "metadata": {},
   "outputs": [],
   "source": [
    "X.S2GLC"
   ]
  },
  {
   "cell_type": "code",
   "execution_count": null,
   "metadata": {},
   "outputs": [],
   "source": []
  },
  {
   "cell_type": "code",
   "execution_count": null,
   "metadata": {},
   "outputs": [],
   "source": []
  }
 ],
 "metadata": {
  "kernelspec": {
   "display_name": "Python 3.6 (DHI GRAS)",
   "language": "python",
   "name": "py3"
  },
  "language_info": {
   "codemirror_mode": {
    "name": "ipython",
    "version": 3
   },
   "file_extension": ".py",
   "mimetype": "text/x-python",
   "name": "python",
   "nbconvert_exporter": "python",
   "pygments_lexer": "ipython3",
   "version": "3.6.6"
  }
 },
 "nbformat": 4,
 "nbformat_minor": 2
}
